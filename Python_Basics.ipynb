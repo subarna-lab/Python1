{
 "cells": [
  {
   "cell_type": "code",
   "execution_count": null,
   "id": "792c0ea6",
   "metadata": {},
   "outputs": [],
   "source": [
    "4+5\n"
   ]
  },
  {
   "cell_type": "code",
   "execution_count": null,
   "id": "17870bb9",
   "metadata": {},
   "outputs": [],
   "source": [
    "7+9"
   ]
  },
  {
   "cell_type": "code",
   "execution_count": null,
   "id": "f03c707e",
   "metadata": {},
   "outputs": [],
   "source": [
    "9-7"
   ]
  },
  {
   "cell_type": "code",
   "execution_count": null,
   "id": "c0ca7499",
   "metadata": {},
   "outputs": [],
   "source": [
    "7-9"
   ]
  },
  {
   "cell_type": "code",
   "execution_count": null,
   "id": "36c4fdb4",
   "metadata": {},
   "outputs": [],
   "source": [
    "78/2"
   ]
  },
  {
   "cell_type": "code",
   "execution_count": null,
   "id": "3c2dd94c",
   "metadata": {},
   "outputs": [],
   "source": [
    "78/3"
   ]
  },
  {
   "cell_type": "code",
   "execution_count": null,
   "id": "e5fdbe40",
   "metadata": {},
   "outputs": [],
   "source": [
    "79/2"
   ]
  },
  {
   "cell_type": "code",
   "execution_count": null,
   "id": "83661737",
   "metadata": {},
   "outputs": [],
   "source": [
    "4/2"
   ]
  },
  {
   "cell_type": "code",
   "execution_count": null,
   "id": "bc193f17",
   "metadata": {},
   "outputs": [],
   "source": [
    "4/3"
   ]
  },
  {
   "cell_type": "code",
   "execution_count": null,
   "id": "b03a2c6a",
   "metadata": {},
   "outputs": [],
   "source": [
    "4%2\n"
   ]
  },
  {
   "cell_type": "code",
   "execution_count": null,
   "id": "1ce5ce48",
   "metadata": {},
   "outputs": [],
   "source": [
    "4%3"
   ]
  },
  {
   "cell_type": "code",
   "execution_count": null,
   "id": "e870bb9d",
   "metadata": {},
   "outputs": [],
   "source": [
    "\"we are successful in Germany\""
   ]
  },
  {
   "cell_type": "code",
   "execution_count": null,
   "id": "c42a313a",
   "metadata": {},
   "outputs": [],
   "source": [
    "print(\"we are successful in Germany\")"
   ]
  },
  {
   "cell_type": "code",
   "execution_count": null,
   "id": "62979675",
   "metadata": {},
   "outputs": [],
   "source": [
    "# escaping character with next line using \\n and \\t is used for tab(space), example :\n",
    "print(\"Hello\\nHow are you?\")\n",
    "print(\"My name is:\\nSubarna Basnet\")\n",
    "print(\"Hello \\t How are you?\")\n",
    "# To make raw string (exact same), r character comes in front of inverted commas.example:\n",
    "print(r\"I am Success\\n what about you?\")\n",
    "print(r\"I love my \\t parents\")"
   ]
  },
  {
   "cell_type": "code",
   "execution_count": null,
   "id": "750d5958",
   "metadata": {},
   "outputs": [],
   "source": [
    "2**4"
   ]
  },
  {
   "cell_type": "code",
   "execution_count": null,
   "id": "e329662c",
   "metadata": {},
   "outputs": [],
   "source": [
    "x=23\n",
    "y=6"
   ]
  },
  {
   "cell_type": "code",
   "execution_count": null,
   "id": "71fc19e0",
   "metadata": {},
   "outputs": [],
   "source": [
    "x+y"
   ]
  },
  {
   "cell_type": "code",
   "execution_count": null,
   "id": "06a42428",
   "metadata": {},
   "outputs": [],
   "source": [
    "print(\"I am {y} years old and my friend is {z} years old\".format(y=x,z=y))"
   ]
  },
  {
   "cell_type": "code",
   "execution_count": null,
   "id": "1ea8296a",
   "metadata": {},
   "outputs": [],
   "source": [
    "y=\"I am successful\""
   ]
  },
  {
   "cell_type": "code",
   "execution_count": null,
   "id": "8ae1c7e1",
   "metadata": {},
   "outputs": [],
   "source": [
    "y\n"
   ]
  },
  {
   "cell_type": "code",
   "execution_count": null,
   "id": "922ff51c",
   "metadata": {},
   "outputs": [],
   "source": [
    "z=."
   ]
  },
  {
   "cell_type": "code",
   "execution_count": null,
   "id": "bdb1aa0a",
   "metadata": {},
   "outputs": [],
   "source": [
    "print(y)"
   ]
  },
  {
   "cell_type": "code",
   "execution_count": null,
   "id": "4467a69d",
   "metadata": {
    "scrolled": true
   },
   "outputs": [],
   "source": [
    "# format metod() or Replacement Field (RF) in python. Example in details below:\n",
    "print(\"{}\".format(10)) # integer value but float and string have also the exact same, example below:\n",
    "print(\"{}\".format(50.231)) # Example of accessing Float values\n",
    "print(\"{},{}\".format(10,20)) # with comma in print.\n",
    "print(\"{} {}\".format(100,200))# without comma in print.\n",
    "print(\"{0}\".format(500))# values are replaced with index too which are starting zero first. example, first values \n",
    "print(\"{0},{1}\".format(700,900)) # two values are replaced.Indexing here; 0=700 and 1=900.\n",
    "print(\"{1}, {0}\".format(625,800)) # replacing values with different order. \n",
    "print(\"{num1},{num2}\".format(num1=1000,num2=2000))# values calling by num1 and num2 name.\n",
    "print(\"{num1} {num2}\".format(num2=1000,num1=2000))\n",
    "print(\"{FirstName} {SecondName}\".format(FirstName=\"Subarna\", SecondName= \"Basnet\"))# values calling by different name.\n",
    "print(\"I am {} successful in format method\".format(\"100%\")) # this is an example of mixed format method. and mixed example of Sring below:\n",
    "print(\"My family members are me {}, wife {},son {} and daughter {}.\".format(\"Subarna Basnet\",\"Kabita k.C. Basnet\",\"Safal k. Basnet\",\"Surabhi Basnet\"))"
   ]
  },
  {
   "cell_type": "markdown",
   "id": "30653da2",
   "metadata": {},
   "source": []
  },
  {
   "cell_type": "markdown",
   "id": "3c9186b5",
   "metadata": {},
   "source": [
    "##### print(\"I am {} years old\".format(48))# the replaced value 48 is printed as a string because it is inside the inverted commas.\n",
    "# if we need the value as a integer what is exactly is, example below.\n",
    "print(\"I am {:d} years old\".format(48))# 48 now is an integer value because {:d} specifies integer type. above code is in string\n",
    "# similarly, it can be used by indexing, example:\n",
    "print(\"I am {0:d} years old\".format(48))\n",
    "print(\"My height is {0:d} c.m. and I am {1:d} years old\".format(175,48)) # two replacements values both are accessing as integer form.\n",
    "print(\"My height {num1:f} and my age is {num2:d}\".format(num1=175.5,num2=48))"
   ]
  },
  {
   "cell_type": "code",
   "execution_count": null,
   "id": "1e7eff68",
   "metadata": {},
   "outputs": [],
   "source": [
    "# addition to format method:\"It is format specification\"\n",
    "# method specification. what can we do inside the format method theory is:\n",
    "# syntax is : [fill][align][sign][#][0][width][,][.precision]type\n",
    "print(\"{:d}\".format(10)) # d is integer and no or zero co efficient infront of d is width of the given integer.ex.: 10\n",
    "print(\"{:0d}\".format(10))\n",
    "print(\"{:5d}\".format(10))#5d means 5 width of given integer below. ex.: 10 with 5 width.\n",
    "print(\"{num:5d}\".format(num=15))\n",
    "print(\"{num1:0d}\".format(num1=15))\n",
    "print(\"{num2:10d}\".format(num2=15))#10d means 10 width of given integer. ex.: 15 with 10 width.\n",
    "print(\"{:05d}\".format(20))\n",
    "\"first, 05d makes five spaces and right side fill with 20 (given integer) and rest is filled by zeros.O is filling object 5 is 5 spaces and d is integer type.\"\n",
    "print(\"{:+5d}\".format(20))# it is used + sign.\n",
    "print(\"{num:-5d}\".format(num=20))# it is used - sign.\n",
    "print(\"{:<5d}\".format(33))# (<) Left Alignment.\n",
    "print(\"{:>5d}\".format(33))# (>) Right Alignment.\n",
    "print(\"{:^5d}\".format(33)) # (^ center Alignment).\n",
    "print(\"{suba:*<6d}\".format(suba=44)) # here, * is fillig object.\n",
    "print(\"{more:$>2d}\".format(more=7))# it is useful for some filling like dollar, EURO and other measurements like metre, kilogaram etc. \n",
    "print(\"{:$>4d}\".format(444))# here, same way, $ is filling object.\n",
    "print(\"{form:#>5d}\".format(form=2))# here, same way, $ is filling object."
   ]
  },
  {
   "cell_type": "code",
   "execution_count": null,
   "id": "7262c9a1",
   "metadata": {},
   "outputs": [],
   "source": [
    "### Similar to Float variables \n",
    "print(\"**************Float******************\")\n",
    "print(\"{}\".format(10.22))# this is string value, why? inside the invereted commas.in order to make float value, see below.\n",
    "print(\"{:f}\".format(10.22))# This is the float value as indicated.\n",
    "print(\"{0:f}\".format(99))# We can access with index as well. here, 0 means 0 index. \n",
    "print(\"{:15f}\".format(10.22))\n",
    "print(\"{new:10f}\".format(new=10))\n",
    "print(\"{new1:2f}\".format(new1=666))\n",
    "print(\"{:*>10f}\".format(88.123456))\n",
    "\"Now to try with Precision (how many dgit after decimal)\"\n",
    "print(\"{:10.2f}\".format(12))\n",
    "print(\"{suba:5.2f}\".format(suba=10.998526))#Here,5=width;2=number of requiered digit after decimal(Precision)andf= float.\n",
    "# Impt.: python has made automatically roundup 10.998526=11 below:"
   ]
  },
  {
   "cell_type": "code",
   "execution_count": null,
   "id": "b26b2b78",
   "metadata": {},
   "outputs": [],
   "source": [
    "# Similarly using with sign, alignment and fill object below:\n",
    "print(\"{:+5.2f}\".format(77))# Here, +=sign;5=width,0=number of degit after decimal and f= float,which always follows round up rule.\n",
    "print(\"{suba:+5.0f}\".format(suba=55))# different to above code, no degits required after the decimal only.\n",
    "print(\"{:>15f}\".format(11.66))# > indicates right alignments.\n",
    "print(\"{0:<15f}\".format(11.66))# < indicates left Alignments.\n",
    "print(\"{san:^15f}\".format(san=11.66))# ^ indicates center Alignment.\n",
    "print(\"{san1:*<6.2f}\".format(san1=11.66))# filling stars.\n",
    "print(\"{calm:$>6.2f}\".format(calm=97))# Using Dollar with calm variable assigned.\n",
    "print(\"{:$>6.2f}\".format(97.88))# using Dollar without variable assigned."
   ]
  },
  {
   "cell_type": "code",
   "execution_count": null,
   "id": "06c28f21",
   "metadata": {},
   "outputs": [],
   "source": [
    "# specificaton (starts after:) format for string data type(dtype).\n",
    "print(\"{:*^13s}\".format(\"Subarna\")) # by defult it is string (or can put s) so that it is not necessary to put any data type(dtype).\n",
    "print(\"{kabi:$<13}\".format(kabi=\"Kabita\"))\n",
    "print(\"{kabi1:$>13}\".format(kabi1=\"Kabita))"
   ]
  },
  {
   "cell_type": "code",
   "execution_count": null,
   "id": "6b3c5bdd",
   "metadata": {},
   "outputs": [],
   "source": [
    "# Selecting required number of string character.\n",
    "print(\"{man:#>10.4}\".format(man=\"Subarna\"))\n",
    "print(\"{:*<10.4}\".format(\"Kabita\"))"
   ]
  },
  {
   "cell_type": "code",
   "execution_count": null,
   "id": "ae630376",
   "metadata": {},
   "outputs": [],
   "source": [
    "# Using Camma and underscore (a Thousand separators) below:\n",
    "print(\"{:,}\".format(8654123745678541)) # thousand separators Using comma (,).\n",
    "print(\"{:_}\".thousand separators using underscore(_)"
   ]
  },
  {
   "cell_type": "code",
   "execution_count": null,
   "id": "4b947e21",
   "metadata": {},
   "outputs": [],
   "source": [
    "# some important practical examples below:\n",
    "#Example 1:\n",
    "Name= \"Subarna Basnet\"\n",
    "Age=48\n",
    "print(\"My name is {} and age is {}.\".format(Name,Age))"
   ]
  },
  {
   "cell_type": "code",
   "execution_count": null,
   "id": "52e09359",
   "metadata": {},
   "outputs": [],
   "source": [
    "# Example 2:\n",
    "x=50\n",
    "y=3\n",
    "print(\"{:.2}\".format(x/y))# the values come in exponential form. \n",
    "# in order to put the same expression into % form:\n",
    "print(\"{:.2%}\".format(x/y))"
   ]
  },
  {
   "cell_type": "code",
   "execution_count": null,
   "id": "2ff1cb90",
   "metadata": {},
   "outputs": [],
   "source": [
    "# accessing the value of Tuple from format method.\n",
    "TP=(80,90,100) # it is possible through indexing inside the format method. \n",
    "print(\"{0[0]} {0[1]} {0[2]}\".format(TP))"
   ]
  },
  {
   "cell_type": "code",
   "execution_count": null,
   "id": "c6ca87ea",
   "metadata": {},
   "outputs": [],
   "source": [
    "# accessing Dictionary value in format method.\n",
    "a={\"key1\":\"Subarna\",\"key2\":\"Basnet\",\"key3\":48}\n",
    "a\n",
    "print(\"The age of {0[key1]} {0[key2]} is {0[key3]}.\".format(a)) # accesing using indexing.\n",
    "print(\"The age of {man[key1]} {man[key2]} is {man[key3]}.\".format(man=a)) # accesing using indexing d or any variable name (like man/m/n...) instead of zero. \n",
    "print(\"The age of {key1} {key2} is {key3}.\".format(**a)) # no need to put indexing Like 0 above.\n"
   ]
  },
  {
   "cell_type": "code",
   "execution_count": null,
   "id": "c60db48b",
   "metadata": {},
   "outputs": [],
   "source": [
    "my friend is {} years old\".format(x,y))"
   ]
  },
  {
   "cell_type": "code",
   "execution_count": null,
   "id": "a7add687",
   "metadata": {},
   "outputs": [],
   "source": [
    "print(\"I am {a} years old and he is {b} years old\".format(a=x, b=y))"
   ]
  },
  {
   "cell_type": "code",
   "execution_count": null,
   "id": "92b78003",
   "metadata": {},
   "outputs": [],
   "source": [
    "print(\"I am {a} years old and she is {b} years old, he is {c} years old\".format(b=x,a=y,c=z))"
   ]
  },
  {
   "cell_type": "code",
   "execution_count": null,
   "id": "ad82989c",
   "metadata": {},
   "outputs": [],
   "source": [
    "# Indexing in Python"
   ]
  },
  {
   "cell_type": "code",
   "execution_count": null,
   "id": "1b949c39",
   "metadata": {},
   "outputs": [],
   "source": [
    "Name=(\"Subarna   basnet\")"
   ]
  },
  {
   "cell_type": "code",
   "execution_count": null,
   "id": "a98043a9",
   "metadata": {},
   "outputs": [],
   "source": [
    "Name[0]"
   ]
  },
  {
   "cell_type": "code",
   "execution_count": null,
   "id": "e6fc070d",
   "metadata": {},
   "outputs": [],
   "source": [
    "Name[9]"
   ]
  },
  {
   "cell_type": "code",
   "execution_count": null,
   "id": "b2993340",
   "metadata": {},
   "outputs": [],
   "source": [
    "joy=\"SubarnaBasnet\""
   ]
  },
  {
   "cell_type": "code",
   "execution_count": null,
   "id": "9a975f16",
   "metadata": {},
   "outputs": [],
   "source": [
    "joy[3]"
   ]
  },
  {
   "cell_type": "code",
   "execution_count": null,
   "id": "a56cb936",
   "metadata": {
    "scrolled": true
   },
   "outputs": [],
   "source": [
    "joy[0:]"
   ]
  },
  {
   "cell_type": "code",
   "execution_count": null,
   "id": "5dd9870a",
   "metadata": {},
   "outputs": [],
   "source": [
    "joy[0:7]"
   ]
  },
  {
   "cell_type": "code",
   "execution_count": null,
   "id": "c5ce9054",
   "metadata": {},
   "outputs": [],
   "source": [
    "joy[7:13]"
   ]
  },
  {
   "cell_type": "code",
   "execution_count": null,
   "id": "37fa80f5",
   "metadata": {},
   "outputs": [],
   "source": [
    "joy[2:7]"
   ]
  },
  {
   "cell_type": "code",
   "execution_count": null,
   "id": "3eece172",
   "metadata": {},
   "outputs": [],
   "source": [
    "joy[7:10]"
   ]
  },
  {
   "cell_type": "code",
   "execution_count": null,
   "id": "12b2d916",
   "metadata": {},
   "outputs": [],
   "source": [
    "lis"
   ]
  },
  {
   "cell_type": "code",
   "execution_count": null,
   "id": "b699d2c9",
   "metadata": {},
   "outputs": [],
   "source": [
    "L1=[1,2,\"a\",\"goodluck\"]"
   ]
  },
  {
   "cell_type": "code",
   "execution_count": null,
   "id": "4953525e",
   "metadata": {},
   "outputs": [],
   "source": [
    "print(L1)"
   ]
  },
  {
   "cell_type": "code",
   "execution_count": null,
   "id": "ddc684d0",
   "metadata": {},
   "outputs": [],
   "source": [
    "L1.append(7)"
   ]
  },
  {
   "cell_type": "code",
   "execution_count": null,
   "id": "36feb459",
   "metadata": {},
   "outputs": [],
   "source": [
    "L1"
   ]
  },
  {
   "cell_type": "code",
   "execution_count": null,
   "id": "c4f210af",
   "metadata": {},
   "outputs": [],
   "source": [
    "L1.append(\"Success\")"
   ]
  },
  {
   "cell_type": "code",
   "execution_count": null,
   "id": "e8b2c10b",
   "metadata": {},
   "outputs": [],
   "source": [
    "L1\n"
   ]
  },
  {
   "cell_type": "code",
   "execution_count": null,
   "id": "778fac9e",
   "metadata": {},
   "outputs": [],
   "source": [
    "print(L1)"
   ]
  },
  {
   "cell_type": "code",
   "execution_count": null,
   "id": "82e2afc2",
   "metadata": {},
   "outputs": [],
   "source": [
    "L1[0]"
   ]
  },
  {
   "cell_type": "code",
   "execution_count": null,
   "id": "90ec2844",
   "metadata": {},
   "outputs": [],
   "source": [
    "L1[5]"
   ]
  },
  {
   "cell_type": "code",
   "execution_count": null,
   "id": "0728e77a",
   "metadata": {},
   "outputs": [],
   "source": [
    "m=L1[0:2]"
   ]
  },
  {
   "cell_type": "code",
   "execution_count": null,
   "id": "213329a8",
   "metadata": {},
   "outputs": [],
   "source": [
    "print(m)"
   ]
  },
  {
   "cell_type": "code",
   "execution_count": null,
   "id": "2471ef53",
   "metadata": {},
   "outputs": [],
   "source": [
    "print(m)"
   ]
  },
  {
   "cell_type": "code",
   "execution_count": null,
   "id": "70578809",
   "metadata": {},
   "outputs": [],
   "source": [
    "print(L1[0])"
   ]
  },
  {
   "cell_type": "code",
   "execution_count": null,
   "id": "08995ab5",
   "metadata": {},
   "outputs": [],
   "source": [
    "L1"
   ]
  },
  {
   "cell_type": "code",
   "execution_count": null,
   "id": "6a40efa9",
   "metadata": {},
   "outputs": [],
   "source": [
    "print(L1[3])"
   ]
  },
  {
   "cell_type": "code",
   "execution_count": null,
   "id": "18f45a1f",
   "metadata": {},
   "outputs": [],
   "source": [
    "L1[0]=100"
   ]
  },
  {
   "cell_type": "code",
   "execution_count": null,
   "id": "0a93f3f3",
   "metadata": {},
   "outputs": [],
   "source": [
    "L1"
   ]
  },
  {
   "cell_type": "code",
   "execution_count": null,
   "id": "16e47d56",
   "metadata": {},
   "outputs": [],
   "source": [
    "x=123"
   ]
  },
  {
   "cell_type": "code",
   "execution_count": null,
   "id": "7b5228fd",
   "metadata": {},
   "outputs": [],
   "source": [
    "x"
   ]
  },
  {
   "cell_type": "code",
   "execution_count": null,
   "id": "005ee6c7",
   "metadata": {},
   "outputs": [],
   "source": [
    "joy=\"yihgdsagm\""
   ]
  },
  {
   "cell_type": "code",
   "execution_count": null,
   "id": "1121e9c5",
   "metadata": {},
   "outputs": [],
   "source": [
    "joy"
   ]
  },
  {
   "cell_type": "code",
   "execution_count": null,
   "id": "abcaa173",
   "metadata": {},
   "outputs": [],
   "source": [
    "s=(1,2,3)"
   ]
  },
  {
   "cell_type": "code",
   "execution_count": null,
   "id": "702ea478",
   "metadata": {},
   "outputs": [],
   "source": [
    "set={1,1,2,4,2,7,9,8}"
   ]
  },
  {
   "cell_type": "code",
   "execution_count": null,
   "id": "f62dee6b",
   "metadata": {},
   "outputs": [],
   "source": [
    "set"
   ]
  },
  {
   "cell_type": "code",
   "execution_count": null,
   "id": "6f561599",
   "metadata": {},
   "outputs": [],
   "source": [
    "Dic1={\"p\":\"we\",\"q\":455,\"r\":\"successful\"}"
   ]
  },
  {
   "cell_type": "code",
   "execution_count": null,
   "id": "de86cfc4",
   "metadata": {},
   "outputs": [],
   "source": [
    "Dic1"
   ]
  },
  {
   "cell_type": "code",
   "execution_count": null,
   "id": "b6b73e1e",
   "metadata": {},
   "outputs": [],
   "source": [
    "print(Dic1)"
   ]
  },
  {
   "cell_type": "code",
   "execution_count": null,
   "id": "45dc538f",
   "metadata": {},
   "outputs": [],
   "source": [
    "Dic1[\"q\"]"
   ]
  },
  {
   "cell_type": "code",
   "execution_count": null,
   "id": "b1e7c79a",
   "metadata": {},
   "outputs": [],
   "source": [
    "Dic1"
   ]
  },
  {
   "cell_type": "code",
   "execution_count": null,
   "id": "d35ee5cf",
   "metadata": {},
   "outputs": [],
   "source": [
    "print(Dic1)"
   ]
  },
  {
   "cell_type": "code",
   "execution_count": null,
   "id": "9803f295",
   "metadata": {},
   "outputs": [],
   "source": [
    "{1,3,3,4,45,5,66,}"
   ]
  },
  {
   "cell_type": "code",
   "execution_count": null,
   "id": "e3c8fc3c",
   "metadata": {},
   "outputs": [],
   "source": [
    "set1={1,23,4,34,44,32,2,222,3,22,1,1}"
   ]
  },
  {
   "cell_type": "code",
   "execution_count": null,
   "id": "c861eb72",
   "metadata": {},
   "outputs": [],
   "source": [
    "set1"
   ]
  },
  {
   "cell_type": "code",
   "execution_count": null,
   "id": "310a61d9",
   "metadata": {},
   "outputs": [],
   "source": [
    "print(set1)"
   ]
  },
  {
   "cell_type": "code",
   "execution_count": null,
   "id": "5e3a712c",
   "metadata": {},
   "outputs": [],
   "source": [
    "set1.add(300)"
   ]
  },
  {
   "cell_type": "code",
   "execution_count": null,
   "id": "b93c269b",
   "metadata": {},
   "outputs": [],
   "source": [
    "set1"
   ]
  },
  {
   "cell_type": "code",
   "execution_count": null,
   "id": "a1737418",
   "metadata": {},
   "outputs": [],
   "source": [
    "set1.add(800)"
   ]
  },
  {
   "cell_type": "code",
   "execution_count": null,
   "id": "7d9872da",
   "metadata": {},
   "outputs": [],
   "source": [
    "set1"
   ]
  },
  {
   "cell_type": "code",
   "execution_count": null,
   "id": "d1607442",
   "metadata": {},
   "outputs": [],
   "source": [
    "Dic1"
   ]
  },
  {
   "cell_type": "code",
   "execution_count": null,
   "id": "981ef60e",
   "metadata": {},
   "outputs": [],
   "source": [
    "dic1={\"x\":1,\"y\":2,\"z\":[6,8,3],\"s\":[3,7,3]}"
   ]
  },
  {
   "cell_type": "code",
   "execution_count": null,
   "id": "d35bc5bd",
   "metadata": {},
   "outputs": [],
   "source": [
    "Dic1"
   ]
  },
  {
   "cell_type": "code",
   "execution_count": null,
   "id": "4177e38d",
   "metadata": {},
   "outputs": [],
   "source": [
    "print(dic1)"
   ]
  },
  {
   "cell_type": "code",
   "execution_count": null,
   "id": "a48a37f2",
   "metadata": {},
   "outputs": [],
   "source": [
    "dic1[\"s\"][1]"
   ]
  },
  {
   "cell_type": "code",
   "execution_count": null,
   "id": "28e519a0",
   "metadata": {},
   "outputs": [],
   "source": [
    "nest=[1,2,3,4,{4,5,9}]"
   ]
  },
  {
   "cell_type": "code",
   "execution_count": null,
   "id": "9b867e84",
   "metadata": {},
   "outputs": [],
   "source": [
    "nest[4]"
   ]
  },
  {
   "cell_type": "code",
   "execution_count": null,
   "id": "59f466bc",
   "metadata": {},
   "outputs": [],
   "source": [
    "nestdic={\"k1\":[1,2,3,4],\"k2\":{\"k21\":[4,5,6,7,8,9]},\"k3\":951}"
   ]
  },
  {
   "cell_type": "code",
   "execution_count": null,
   "id": "fdddcd9b",
   "metadata": {},
   "outputs": [],
   "source": [
    "nestdic"
   ]
  },
  {
   "cell_type": "code",
   "execution_count": null,
   "id": "a4c3c064",
   "metadata": {},
   "outputs": [],
   "source": [
    "print(nestdic)"
   ]
  },
  {
   "cell_type": "code",
   "execution_count": null,
   "id": "9bbc8b13",
   "metadata": {},
   "outputs": [],
   "source": [
    "suba=nestdic"
   ]
  },
  {
   "cell_type": "code",
   "execution_count": null,
   "id": "321981ad",
   "metadata": {},
   "outputs": [],
   "source": [
    "suba"
   ]
  },
  {
   "cell_type": "code",
   "execution_count": null,
   "id": "87cbb9e2",
   "metadata": {},
   "outputs": [],
   "source": [
    "print(suba)"
   ]
  },
  {
   "cell_type": "code",
   "execution_count": null,
   "id": "013ee627",
   "metadata": {},
   "outputs": [],
   "source": [
    "nestdic[\"k2\"]"
   ]
  },
  {
   "cell_type": "code",
   "execution_count": null,
   "id": "35e1abc7",
   "metadata": {},
   "outputs": [],
   "source": [
    "suba[\"k3\"]"
   ]
  },
  {
   "cell_type": "code",
   "execution_count": null,
   "id": "6476a0cc",
   "metadata": {},
   "outputs": [],
   "source": [
    "set1={11,8,9,10,1}"
   ]
  },
  {
   "cell_type": "code",
   "execution_count": null,
   "id": "3228cb7b",
   "metadata": {},
   "outputs": [],
   "source": [
    "print(set1)"
   ]
  },
  {
   "cell_type": "code",
   "execution_count": null,
   "id": "1af6d3be",
   "metadata": {},
   "outputs": [],
   "source": [
    "set1.add(5)"
   ]
  },
  {
   "cell_type": "code",
   "execution_count": null,
   "id": "ced970cd",
   "metadata": {},
   "outputs": [],
   "source": [
    "set1"
   ]
  },
  {
   "cell_type": "code",
   "execution_count": null,
   "id": "e5eafc89",
   "metadata": {},
   "outputs": [],
   "source": [
    "set1.add(\"apple\")"
   ]
  },
  {
   "cell_type": "code",
   "execution_count": null,
   "id": "b6293e0f",
   "metadata": {},
   "outputs": [],
   "source": [
    "set1"
   ]
  },
  {
   "cell_type": "code",
   "execution_count": null,
   "id": "18f56107",
   "metadata": {},
   "outputs": [],
   "source": [
    "set1.add(\"1orange\")"
   ]
  },
  {
   "cell_type": "code",
   "execution_count": null,
   "id": "cd0db270",
   "metadata": {},
   "outputs": [],
   "source": [
    "set1"
   ]
  },
  {
   "cell_type": "code",
   "execution_count": null,
   "id": "e110dc90",
   "metadata": {},
   "outputs": [],
   "source": [
    "set1.add(12)"
   ]
  },
  {
   "cell_type": "code",
   "execution_count": null,
   "id": "ac6f2656",
   "metadata": {},
   "outputs": [],
   "source": [
    "set1"
   ]
  },
  {
   "cell_type": "code",
   "execution_count": null,
   "id": "3f0e10ab",
   "metadata": {},
   "outputs": [],
   "source": [
    "True"
   ]
  },
  {
   "cell_type": "code",
   "execution_count": null,
   "id": "34574304",
   "metadata": {},
   "outputs": [],
   "source": [
    "False"
   ]
  },
  {
   "cell_type": "code",
   "execution_count": null,
   "id": "e4f22a19",
   "metadata": {},
   "outputs": [],
   "source": [
    "1<8"
   ]
  },
  {
   "cell_type": "code",
   "execution_count": null,
   "id": "1e31fa40",
   "metadata": {},
   "outputs": [],
   "source": [
    "1==2"
   ]
  },
  {
   "cell_type": "code",
   "execution_count": null,
   "id": "97b58137",
   "metadata": {},
   "outputs": [],
   "source": [
    "7-2==8"
   ]
  },
  {
   "cell_type": "code",
   "execution_count": null,
   "id": "e1569d4c",
   "metadata": {},
   "outputs": [],
   "source": [
    "2>=8"
   ]
  },
  {
   "cell_type": "code",
   "execution_count": null,
   "id": "cc9de8dd",
   "metadata": {},
   "outputs": [],
   "source": [
    "2!=5"
   ]
  },
  {
   "cell_type": "code",
   "execution_count": null,
   "id": "c16bcddd",
   "metadata": {},
   "outputs": [],
   "source": [
    "(5-8!=-3())"
   ]
  },
  {
   "cell_type": "code",
   "execution_count": null,
   "id": "2f910014",
   "metadata": {},
   "outputs": [],
   "source": [
    "\"Hi\"==\"iH\""
   ]
  },
  {
   "cell_type": "code",
   "execution_count": null,
   "id": "b9ea9650",
   "metadata": {},
   "outputs": [],
   "source": [
    "(2>1) and (1>2)"
   ]
  },
  {
   "cell_type": "code",
   "execution_count": null,
   "id": "de706b2c",
   "metadata": {},
   "outputs": [],
   "source": [
    "True or False"
   ]
  },
  {
   "cell_type": "code",
   "execution_count": null,
   "id": "a7dfdda7",
   "metadata": {},
   "outputs": [],
   "source": [
    "if 2>1\n",
    "    print(\"I am successful because it is true\")"
   ]
  },
  {
   "cell_type": "code",
   "execution_count": null,
   "id": "edfa5bd6",
   "metadata": {},
   "outputs": [],
   "source": [
    "if 1>2:\n",
    "    print(\"I am Hari\")\n",
    "elif 7==\"seven\"\n",
    "        print\n",
    "else:\n",
    "    print(\"I am Subarna\")"
   ]
  },
  {
   "cell_type": "code",
   "execution_count": null,
   "id": "4670fa92",
   "metadata": {},
   "outputs": [],
   "source": [
    "seq=[4,4,4,4,4]"
   ]
  },
  {
   "cell_type": "code",
   "execution_count": null,
   "id": "b611418f",
   "metadata": {},
   "outputs": [],
   "source": [
    "seq"
   ]
  },
  {
   "cell_type": "code",
   "execution_count": null,
   "id": "2cdc3b36",
   "metadata": {},
   "outputs": [],
   "source": [
    "for subha in seq:\n",
    "    print(\"Surabhi\")"
   ]
  },
  {
   "cell_type": "code",
   "execution_count": null,
   "id": "ddd10ae4",
   "metadata": {},
   "outputs": [],
   "source": [
    "seq1=[5,5,5,5,5,5,5,5,5,5,5,6]"
   ]
  },
  {
   "cell_type": "code",
   "execution_count": null,
   "id": "d8293585",
   "metadata": {},
   "outputs": [],
   "source": [
    "for Surabhi in seq1:\n",
    "    print(\"German\")"
   ]
  },
  {
   "cell_type": "code",
   "execution_count": null,
   "id": "25eed4af",
   "metadata": {},
   "outputs": [],
   "source": [
    "i=1\n",
    "while i<=5:\n",
    "    print(\"we are now German\")\n",
    "    i=i+1\n",
    "    "
   ]
  },
  {
   "cell_type": "code",
   "execution_count": null,
   "id": "f3556a10",
   "metadata": {},
   "outputs": [],
   "source": [
    "num=1\n",
    "while num<=5:\n",
    "    print(\"Hallow World\")\n",
    "    num=num+1"
   ]
  },
  {
   "cell_type": "code",
   "execution_count": null,
   "id": "1abed569",
   "metadata": {},
   "outputs": [],
   "source": [
    "i=1\n",
    "while i<=6:\n",
    "    if i==5:\n",
    "        print(\"we R Portuguese\")\n",
    "   \n",
    "    print(\"we R German\")\n",
    "    i+=1\n"
   ]
  },
  {
   "cell_type": "code",
   "execution_count": null,
   "id": "c8291c01",
   "metadata": {},
   "outputs": [],
   "source": [
    "count=0\n",
    "while count<9:\n",
    "    print(\"The count is:\", count)\n",
    "    count+=1\n",
    "print(\"Good Bye\")"
   ]
  },
  {
   "cell_type": "code",
   "execution_count": null,
   "id": "04812683",
   "metadata": {},
   "outputs": [],
   "source": [
    "num=0\n",
    "while num<=10:\n",
    "    num+=1\n",
    "    print(num)\n",
    "    num+=1\n",
    "    \n"
   ]
  },
  {
   "cell_type": "code",
   "execution_count": null,
   "id": "6e22078b",
   "metadata": {},
   "outputs": [],
   "source": [
    "a=[1,2,3,4]"
   ]
  },
  {
   "cell_type": "code",
   "execution_count": null,
   "id": "98263c27",
   "metadata": {},
   "outputs": [],
   "source": [
    "while a:\n",
    "    print(a.pop())"
   ]
  },
  {
   "cell_type": "code",
   "execution_count": null,
   "id": "4ec9e452",
   "metadata": {},
   "outputs": [],
   "source": [
    "count=0\n",
    "while count<5:count+=1;print(\"wetui\")"
   ]
  },
  {
   "cell_type": "code",
   "execution_count": null,
   "id": "faef4934",
   "metadata": {},
   "outputs": [],
   "source": []
  },
  {
   "cell_type": "code",
   "execution_count": null,
   "id": "c9d847a6",
   "metadata": {},
   "outputs": [],
   "source": [
    "# Prints all letters of my name except  S and b\n",
    "i =0\n",
    "a = \"Subarna Basnet\"\n",
    "while i <len(a):\n",
    "    if a[i]==\"S\" or a[i]==\"b\":\n",
    "        i=i+1\n",
    "        continue\n",
    "    print(\" My unique name without S & B\", a[i])\n",
    "    i=i+1\n"
   ]
  },
  {
   "cell_type": "code",
   "execution_count": null,
   "id": "91302ede",
   "metadata": {},
   "outputs": [],
   "source": [
    "seq=[1,2,3,4,5,6]\n"
   ]
  },
  {
   "cell_type": "code",
   "execution_count": null,
   "id": "e2535aec",
   "metadata": {},
   "outputs": [],
   "source": [
    "for Suba in seq:\n",
    "    print(\"Surabhi is crying\")"
   ]
  },
  {
   "cell_type": "code",
   "execution_count": null,
   "id": "a4821ee0",
   "metadata": {},
   "outputs": [],
   "source": [
    "i=1\n",
    "while i<7:\n",
    "    print (\"Surabhi is silence on my lab\")\n",
    "    i=i+1\n",
    "    "
   ]
  },
  {
   "cell_type": "code",
   "execution_count": null,
   "id": "0b3b53c3",
   "metadata": {},
   "outputs": [],
   "source": [
    "type(seq)"
   ]
  },
  {
   "cell_type": "code",
   "execution_count": null,
   "id": "53f7c344",
   "metadata": {},
   "outputs": [],
   "source": [
    "a=34"
   ]
  },
  {
   "cell_type": "code",
   "execution_count": null,
   "id": "ee395f7f",
   "metadata": {},
   "outputs": [],
   "source": [
    "type(a)"
   ]
  },
  {
   "cell_type": "code",
   "execution_count": null,
   "id": "b1f23683",
   "metadata": {},
   "outputs": [],
   "source": [
    "b=2.5"
   ]
  },
  {
   "cell_type": "code",
   "execution_count": null,
   "id": "0d1ca497",
   "metadata": {},
   "outputs": [],
   "source": [
    "type(b)"
   ]
  },
  {
   "cell_type": "code",
   "execution_count": null,
   "id": "6ae6c436",
   "metadata": {},
   "outputs": [],
   "source": [
    "c=a+b"
   ]
  },
  {
   "cell_type": "code",
   "execution_count": null,
   "id": "a149f73c",
   "metadata": {},
   "outputs": [],
   "source": [
    "type(c)"
   ]
  },
  {
   "cell_type": "code",
   "execution_count": null,
   "id": "2d21aa6f",
   "metadata": {},
   "outputs": [],
   "source": [
    "b=(\"I am on the way to python\")"
   ]
  },
  {
   "cell_type": "code",
   "execution_count": null,
   "id": "7f9ad478",
   "metadata": {},
   "outputs": [],
   "source": [
    "d=a+b"
   ]
  },
  {
   "cell_type": "code",
   "execution_count": null,
   "id": "add9e44a",
   "metadata": {},
   "outputs": [],
   "source": [
    "b(type)"
   ]
  },
  {
   "cell_type": "code",
   "execution_count": null,
   "id": "431b645e",
   "metadata": {},
   "outputs": [],
   "source": [
    "type(b)"
   ]
  },
  {
   "cell_type": "code",
   "execution_count": null,
   "id": "7466d530",
   "metadata": {},
   "outputs": [],
   "source": [
    "d=(\" Adding Strings\")"
   ]
  },
  {
   "cell_type": "code",
   "execution_count": null,
   "id": "85de8295",
   "metadata": {},
   "outputs": [],
   "source": [
    "e=b+d"
   ]
  },
  {
   "cell_type": "code",
   "execution_count": null,
   "id": "c96190fd",
   "metadata": {},
   "outputs": [],
   "source": [
    "e"
   ]
  },
  {
   "cell_type": "code",
   "execution_count": null,
   "id": "a6f35ac2",
   "metadata": {},
   "outputs": [],
   "source": [
    "print(e)"
   ]
  },
  {
   "cell_type": "code",
   "execution_count": null,
   "id": "0e6bd852",
   "metadata": {},
   "outputs": [],
   "source": [
    "def double_number(a):\n",
    "    # btw, here is a comment! Use the # symbol to add comments or temporarily remove code\n",
    "    # shorthand operator for 'a = a * 2'\n",
    "    a *= 2\n",
    "    return a"
   ]
  },
  {
   "cell_type": "code",
   "execution_count": null,
   "id": "b104fc16",
   "metadata": {},
   "outputs": [],
   "source": [
    "print(a)"
   ]
  },
  {
   "cell_type": "code",
   "execution_count": null,
   "id": "df15a527",
   "metadata": {},
   "outputs": [],
   "source": [
    "a"
   ]
  },
  {
   "cell_type": "code",
   "execution_count": null,
   "id": "6427e438",
   "metadata": {},
   "outputs": [],
   "source": [
    "a=2"
   ]
  },
  {
   "cell_type": "code",
   "execution_count": null,
   "id": "f635a5f5",
   "metadata": {},
   "outputs": [],
   "source": [
    "def double_number(a):\n",
    "    # btw, here is a comment! Use the # symbol to add comments or temporarily remove code\n",
    "    # shorthand operator for 'a = a * 2'\n",
    "    a *= 2\n",
    "    return a\n",
    "print(a)\n"
   ]
  },
  {
   "cell_type": "code",
   "execution_count": null,
   "id": "ffc5e2f4",
   "metadata": {},
   "outputs": [],
   "source": [
    "def double_number(a):\n",
    "    # btw, here is a comment! Use the # symbol to add comments or temporarily remove code\n",
    "    # shorthand operator for 'a = a * 2'\n",
    "    a *= 4\n",
    "    return a\n",
    "print(a)"
   ]
  },
  {
   "cell_type": "code",
   "execution_count": null,
   "id": "5978e1aa",
   "metadata": {},
   "outputs": [],
   "source": [
    "isinstance(20,int)"
   ]
  },
  {
   "cell_type": "code",
   "execution_count": null,
   "id": "73a2e50c",
   "metadata": {},
   "outputs": [],
   "source": [
    "isinstance(7.5,int)"
   ]
  },
  {
   "cell_type": "code",
   "execution_count": null,
   "id": "71a3a704",
   "metadata": {},
   "outputs": [],
   "source": [
    "int(6.0)"
   ]
  },
  {
   "cell_type": "code",
   "execution_count": null,
   "id": "1e074dc6",
   "metadata": {},
   "outputs": [],
   "source": [
    "float(9)"
   ]
  },
  {
   "cell_type": "code",
   "execution_count": null,
   "id": "7fd80b5f",
   "metadata": {},
   "outputs": [],
   "source": [
    "type(float(\"inf\"))"
   ]
  },
  {
   "cell_type": "code",
   "execution_count": null,
   "id": "8bd350f8",
   "metadata": {},
   "outputs": [],
   "source": [
    "type(\"inf\")"
   ]
  },
  {
   "cell_type": "code",
   "execution_count": null,
   "id": "8a8bcad7",
   "metadata": {},
   "outputs": [],
   "source": [
    "type(float (\"-inf\"))"
   ]
  },
  {
   "cell_type": "code",
   "execution_count": null,
   "id": "ec769ae8",
   "metadata": {},
   "outputs": [],
   "source": [
    "Safal()"
   ]
  },
  {
   "cell_type": "code",
   "execution_count": null,
   "id": "45ca3a89",
   "metadata": {},
   "outputs": [],
   "source": [
    "type(float (\"NaN\"))"
   ]
  },
  {
   "cell_type": "code",
   "execution_count": null,
   "id": "9cc2b43f",
   "metadata": {},
   "outputs": [],
   "source": [
    "type(False)"
   ]
  },
  {
   "cell_type": "code",
   "execution_count": null,
   "id": "057cb3bc",
   "metadata": {},
   "outputs": [],
   "source": [
    "isinstance(True, int)"
   ]
  },
  {
   "cell_type": "code",
   "execution_count": null,
   "id": "76052c20",
   "metadata": {},
   "outputs": [],
   "source": [
    "10==10.1"
   ]
  },
  {
   "cell_type": "code",
   "execution_count": null,
   "id": "5b10a22b",
   "metadata": {},
   "outputs": [],
   "source": [
    "not True"
   ]
  },
  {
   "cell_type": "code",
   "execution_count": null,
   "id": "ce9b3683",
   "metadata": {},
   "outputs": [],
   "source": [
    "bool(0)"
   ]
  },
  {
   "cell_type": "code",
   "execution_count": null,
   "id": "4ce5baf1",
   "metadata": {},
   "outputs": [],
   "source": [
    "type(0)"
   ]
  },
  {
   "cell_type": "code",
   "execution_count": null,
   "id": "3b6b6909",
   "metadata": {},
   "outputs": [],
   "source": [
    "bool(7)"
   ]
  },
  {
   "cell_type": "code",
   "execution_count": null,
   "id": "5048a29e",
   "metadata": {},
   "outputs": [],
   "source": [
    "type(None)"
   ]
  },
  {
   "cell_type": "code",
   "execution_count": null,
   "id": "f3c1c59d",
   "metadata": {},
   "outputs": [],
   "source": [
    "def Safal():\n",
    "    print(\"I am learning Function easily\")"
   ]
  },
  {
   "cell_type": "code",
   "execution_count": null,
   "id": "791b3ef0",
   "metadata": {},
   "outputs": [],
   "source": [
    "Safal()"
   ]
  },
  {
   "cell_type": "code",
   "execution_count": null,
   "id": "14a57ab2",
   "metadata": {},
   "outputs": [],
   "source": [
    "def Safal(FamilyName):\n",
    "    print(FamilyName +\" Basnet\")"
   ]
  },
  {
   "cell_type": "code",
   "execution_count": null,
   "id": "262c6b1a",
   "metadata": {},
   "outputs": [],
   "source": [
    "Safal(\"Subarna\")"
   ]
  },
  {
   "cell_type": "code",
   "execution_count": null,
   "id": "49a963d3",
   "metadata": {},
   "outputs": [],
   "source": [
    "Safal(\"Kabita KC\")"
   ]
  },
  {
   "cell_type": "code",
   "execution_count": null,
   "id": "a279fe01",
   "metadata": {},
   "outputs": [],
   "source": [
    "Safal(\"Safal Krishna\")"
   ]
  },
  {
   "cell_type": "code",
   "execution_count": null,
   "id": "cde019e4",
   "metadata": {},
   "outputs": [],
   "source": [
    "Safal(\"Surabhi\")"
   ]
  },
  {
   "cell_type": "code",
   "execution_count": null,
   "id": "70d66ec6",
   "metadata": {},
   "outputs": [],
   "source": [
    "def Mychildren(*kids):\n",
    "    print(kids[0]+\" is my Son and \"+ kids[1] + \" is my daughter\" )"
   ]
  },
  {
   "cell_type": "code",
   "execution_count": null,
   "id": "caf253b5",
   "metadata": {},
   "outputs": [],
   "source": [
    "Mychildren(\"Safal\", \"Surabhi\", \" Zero\")"
   ]
  },
  {
   "cell_type": "code",
   "execution_count": null,
   "id": "eb7491bc",
   "metadata": {},
   "outputs": [],
   "source": [
    "def myfamily(one,two,three):\n",
    "    print(one +\" is my wife and \" + two +\" is my son and \"+ three +\" is my daughter.\")"
   ]
  },
  {
   "cell_type": "code",
   "execution_count": null,
   "id": "8ecfe42f",
   "metadata": {},
   "outputs": [],
   "source": [
    "myfamily(two=\"Safal K. Basnet\", one=\"Kabita KC Basnet\", three=\"Surabhi Basnet\" )"
   ]
  },
  {
   "cell_type": "code",
   "execution_count": null,
   "id": "0547cc19",
   "metadata": {},
   "outputs": [],
   "source": [
    "def Suba(Son,Daughter):\n",
    "    print(Son + \" is my first child and\" + Daughter + \" is my Second child.\" )"
   ]
  },
  {
   "cell_type": "code",
   "execution_count": null,
   "id": "87084d88",
   "metadata": {},
   "outputs": [],
   "source": [
    "Suba(Daughter=\"Surabhi\", Son=\"Safal\")"
   ]
  },
  {
   "cell_type": "code",
   "execution_count": null,
   "id": "ebd5a925",
   "metadata": {},
   "outputs": [],
   "source": [
    "Land()\n",
    "Land(\"Sweden\")\n",
    "Land(\"India\")"
   ]
  },
  {
   "cell_type": "code",
   "execution_count": null,
   "id": "ab47a83f",
   "metadata": {},
   "outputs": [],
   "source": [
    "Fruits=[\"Apple\", \"Orange\",\"Grapes\"]"
   ]
  },
  {
   "cell_type": "code",
   "execution_count": null,
   "id": "f42715a3",
   "metadata": {},
   "outputs": [],
   "source": [
    "def Subha(Fruits):\n",
    "    for x in Fruits:\n",
    "        print(x)\n",
    "falful=[\"Apple\", \"Orange\",\"Grapes\"]\n",
    "Subha(falful)\n",
    "    "
   ]
  },
  {
   "cell_type": "code",
   "execution_count": null,
   "id": "9e752dab",
   "metadata": {},
   "outputs": [],
   "source": [
    "def Multiply(x=5):\n",
    "    return(x*2)\n",
    "\n"
   ]
  },
  {
   "cell_type": "code",
   "execution_count": null,
   "id": "9ed1265b",
   "metadata": {},
   "outputs": [],
   "source": [
    "Multiply(300)"
   ]
  },
  {
   "cell_type": "code",
   "execution_count": null,
   "id": "8a3d0d38",
   "metadata": {},
   "outputs": [],
   "source": [
    "print(Multiply(300))"
   ]
  },
  {
   "cell_type": "code",
   "execution_count": null,
   "id": "7fb84f3d",
   "metadata": {},
   "outputs": [],
   "source": [
    "def subha():\n",
    "    pass"
   ]
  },
  {
   "cell_type": "code",
   "execution_count": null,
   "id": "486d8e39",
   "metadata": {},
   "outputs": [],
   "source": [
    "## I am tryig title writtings."
   ]
  },
  {
   "attachments": {
    "image.png": {
     "image/png": "[encoded data removed]"
    }
   },
   "cell_type": "markdown",
   "id": "4405635a",
   "metadata": {},
   "source": [
    "# I am i Markup Cell\n",
    "### We are trying Mark up\n",
    "\n",
    "# ![image.png](attachment:image.png) \n"
   ]
  },
  {
   "cell_type": "code",
   "execution_count": null,
   "id": "15b0eab4",
   "metadata": {},
   "outputs": [],
   "source": [
    "\"\"\" fçaksdhfkadlshflksdajflsdajf\n",
    "jflkasdjfljsadflksadjflksadjfl\n",
    "ljlkajsdlkfjasdlkfjasdklfjasdlkfjs\n",
    "ajdfklasdjfkljasdlkfjasdlkfj\"\"\""
   ]
  },
  {
   "cell_type": "code",
   "execution_count": null,
   "id": "d1e2110f",
   "metadata": {},
   "outputs": [],
   "source": [
    "2/2"
   ]
  },
  {
   "cell_type": "code",
   "execution_count": null,
   "id": "0d2ebe0a",
   "metadata": {},
   "outputs": [],
   "source": [
    "4//2"
   ]
  },
  {
   "cell_type": "code",
   "execution_count": null,
   "id": "d3a82cd4",
   "metadata": {},
   "outputs": [],
   "source": [
    "4%2"
   ]
  },
  {
   "cell_type": "code",
   "execution_count": null,
   "id": "a1ea5bad",
   "metadata": {},
   "outputs": [],
   "source": [
    "Surabhi=[33,4,55,6,\"Basnet\",2==1+1, [1,2,3] ]"
   ]
  },
  {
   "cell_type": "code",
   "execution_count": null,
   "id": "7cdb292a",
   "metadata": {},
   "outputs": [],
   "source": [
    "Surabhi"
   ]
  },
  {
   "cell_type": "code",
   "execution_count": null,
   "id": "62d3b2bf",
   "metadata": {},
   "outputs": [],
   "source": [
    "print(Surabhi)"
   ]
  },
  {
   "cell_type": "code",
   "execution_count": null,
   "id": "146560eb",
   "metadata": {},
   "outputs": [],
   "source": [
    "type(Surabhi)"
   ]
  },
  {
   "cell_type": "code",
   "execution_count": null,
   "id": "2b4b6e29",
   "metadata": {},
   "outputs": [],
   "source": [
    "Empty_list=[]"
   ]
  },
  {
   "cell_type": "markdown",
   "id": "ad22f791",
   "metadata": {},
   "source": [
    "type(Empty_list)"
   ]
  },
  {
   "cell_type": "code",
   "execution_count": null,
   "id": "2ed051e8",
   "metadata": {},
   "outputs": [],
   "source": [
    "print(\"Number of elements in Surabhi is:\", len(Surabhi))"
   ]
  },
  {
   "cell_type": "code",
   "execution_count": null,
   "id": "fa9803ee",
   "metadata": {},
   "outputs": [],
   "source": [
    "for x in Surabhi:\n",
    "    print(x)"
   ]
  },
  {
   "cell_type": "code",
   "execution_count": null,
   "id": "4e10292c",
   "metadata": {},
   "outputs": [],
   "source": [
    "len(Empty_list)"
   ]
  },
  {
   "cell_type": "code",
   "execution_count": null,
   "id": "bae0c76c",
   "metadata": {},
   "outputs": [],
   "source": [
    "Surabhi"
   ]
  },
  {
   "cell_type": "code",
   "execution_count": null,
   "id": "a324fc5e",
   "metadata": {},
   "outputs": [],
   "source": [
    "Surabhi[0]=99"
   ]
  },
  {
   "cell_type": "code",
   "execution_count": null,
   "id": "063db750",
   "metadata": {},
   "outputs": [],
   "source": [
    "Surabhi"
   ]
  },
  {
   "cell_type": "code",
   "execution_count": null,
   "id": "44b2b45f",
   "metadata": {},
   "outputs": [],
   "source": [
    "Surabhi[1]=4"
   ]
  },
  {
   "cell_type": "code",
   "execution_count": null,
   "id": "eaef1758",
   "metadata": {},
   "outputs": [],
   "source": [
    "Surabhi"
   ]
  },
  {
   "cell_type": "code",
   "execution_count": null,
   "id": "f2dbda8f",
   "metadata": {},
   "outputs": [],
   "source": [
    "Surabhi.append(100)"
   ]
  },
  {
   "cell_type": "code",
   "execution_count": null,
   "id": "b24a636e",
   "metadata": {},
   "outputs": [],
   "source": [
    "Surabhi"
   ]
  },
  {
   "cell_type": "code",
   "execution_count": null,
   "id": "12110e41",
   "metadata": {},
   "outputs": [],
   "source": [
    "Surabhi.insert(1,500)"
   ]
  },
  {
   "cell_type": "code",
   "execution_count": null,
   "id": "9e97c7c1",
   "metadata": {},
   "outputs": [],
   "source": [
    "Surabhi"
   ]
  },
  {
   "cell_type": "code",
   "execution_count": null,
   "id": "aa9c4daa",
   "metadata": {},
   "outputs": [],
   "source": [
    "Surabhi.insert(5,\"Basnet\")"
   ]
  },
  {
   "cell_type": "code",
   "execution_count": null,
   "id": "33b1858c",
   "metadata": {},
   "outputs": [],
   "source": [
    "Surabhi"
   ]
  },
  {
   "cell_type": "code",
   "execution_count": null,
   "id": "4eafe047",
   "metadata": {},
   "outputs": [],
   "source": [
    "Surabhi.remove(4)"
   ]
  },
  {
   "cell_type": "code",
   "execution_count": null,
   "id": "f0b2be0e",
   "metadata": {},
   "outputs": [],
   "source": [
    "Surabhi"
   ]
  },
  {
   "cell_type": "code",
   "execution_count": null,
   "id": "07f41635",
   "metadata": {},
   "outputs": [],
   "source": [
    "Surabhi.insert(2,4)"
   ]
  },
  {
   "cell_type": "code",
   "execution_count": null,
   "id": "0ade5b35",
   "metadata": {},
   "outputs": [],
   "source": [
    "Surabhi"
   ]
  },
  {
   "cell_type": "code",
   "execution_count": null,
   "id": "e3fe357e",
   "metadata": {},
   "outputs": [],
   "source": [
    "Surabhi.pop(2)"
   ]
  },
  {
   "cell_type": "code",
   "execution_count": null,
   "id": "5af74392",
   "metadata": {},
   "outputs": [],
   "source": [
    "Surabhi"
   ]
  },
  {
   "cell_type": "code",
   "execution_count": null,
   "id": "7f8061c1",
   "metadata": {},
   "outputs": [],
   "source": [
    "100 in Surabhi"
   ]
  },
  {
   "cell_type": "code",
   "execution_count": null,
   "id": "c1763180",
   "metadata": {},
   "outputs": [],
   "source": [
    "4 in Surabhi"
   ]
  },
  {
   "cell_type": "code",
   "execution_count": null,
   "id": "63d419a3",
   "metadata": {},
   "outputs": [],
   "source": [
    "Safal=[25,33,66,99,8,22,77]"
   ]
  },
  {
   "cell_type": "code",
   "execution_count": null,
   "id": "957baa6c",
   "metadata": {},
   "outputs": [],
   "source": [
    "Kabita=[55,33,66,88,95]"
   ]
  },
  {
   "cell_type": "code",
   "execution_count": null,
   "id": "d3186117",
   "metadata": {},
   "outputs": [],
   "source": [
    "Subarna=[100,200,300,600]"
   ]
  },
  {
   "cell_type": "code",
   "execution_count": null,
   "id": "ace57b67",
   "metadata": {},
   "outputs": [],
   "source": [
    "Family=Surabhi+Safal+Kabita+Subarna"
   ]
  },
  {
   "cell_type": "code",
   "execution_count": null,
   "id": "0282c1a0",
   "metadata": {},
   "outputs": [],
   "source": [
    "Family"
   ]
  },
  {
   "cell_type": "code",
   "execution_count": null,
   "id": "d8423782",
   "metadata": {},
   "outputs": [],
   "source": [
    "Family_Copy=Family.copy()"
   ]
  },
  {
   "cell_type": "code",
   "execution_count": null,
   "id": "755845ff",
   "metadata": {},
   "outputs": [],
   "source": [
    "Family_Copy"
   ]
  },
  {
   "cell_type": "code",
   "execution_count": null,
   "id": "818e7fcf",
   "metadata": {},
   "outputs": [],
   "source": [
    "Family_Copy.append(10000000000000000000000020000000)"
   ]
  },
  {
   "cell_type": "code",
   "execution_count": null,
   "id": "c72630b0",
   "metadata": {},
   "outputs": [],
   "source": [
    "Family_Copy"
   ]
  },
  {
   "cell_type": "code",
   "execution_count": null,
   "id": "915c4627",
   "metadata": {},
   "outputs": [],
   "source": [
    "Family"
   ]
  },
  {
   "cell_type": "code",
   "execution_count": null,
   "id": "807eda9a",
   "metadata": {},
   "outputs": [],
   "source": [
    "ID={\"FirstName\":\"Subarna\", \"FamilyName\":\"Basnet\",\"Age\":48,\"Nationality\":\"Portuguese\" }"
   ]
  },
  {
   "cell_type": "code",
   "execution_count": null,
   "id": "693bcd5c",
   "metadata": {},
   "outputs": [],
   "source": [
    "ID"
   ]
  },
  {
   "cell_type": "code",
   "execution_count": null,
   "id": "52f8e127",
   "metadata": {},
   "outputs": [],
   "source": [
    "ID1=dict(FirstName=\"Subarna\", FamilyName=\"Basnet\", Age=48, Nationality=\"Portuguese\" )"
   ]
  },
  {
   "cell_type": "code",
   "execution_count": null,
   "id": "0ece0afd",
   "metadata": {},
   "outputs": [],
   "source": [
    "ID1"
   ]
  },
  {
   "cell_type": "code",
   "execution_count": null,
   "id": "6d4f702d",
   "metadata": {},
   "outputs": [],
   "source": [
    "type(ID1)"
   ]
  },
  {
   "cell_type": "code",
   "execution_count": null,
   "id": "00bafb3a",
   "metadata": {},
   "outputs": [],
   "source": [
    "ID[\"Age\"]"
   ]
  },
  {
   "cell_type": "code",
   "execution_count": null,
   "id": "d117f237",
   "metadata": {},
   "outputs": [],
   "source": [
    "ID1[\"Age\"]=47"
   ]
  },
  {
   "cell_type": "code",
   "execution_count": null,
   "id": "af10f84a",
   "metadata": {},
   "outputs": [],
   "source": [
    "ID1"
   ]
  },
  {
   "cell_type": "code",
   "execution_count": null,
   "id": "bc75e173",
   "metadata": {},
   "outputs": [],
   "source": [
    "ID[\"Address\"]=\"Kurveneck 14, 22335,Hamburg\""
   ]
  },
  {
   "cell_type": "code",
   "execution_count": null,
   "id": "031267fd",
   "metadata": {},
   "outputs": [],
   "source": [
    "ID"
   ]
  },
  {
   "cell_type": "code",
   "execution_count": null,
   "id": "e90c0056",
   "metadata": {},
   "outputs": [],
   "source": [
    "ID[\"BirthPlace\"]=\"Nepal\""
   ]
  },
  {
   "cell_type": "code",
   "execution_count": null,
   "id": "770e5523",
   "metadata": {},
   "outputs": [],
   "source": [
    "ID"
   ]
  },
  {
   "cell_type": "code",
   "execution_count": null,
   "id": "4502f463",
   "metadata": {},
   "outputs": [],
   "source": [
    "ID.pop(\"BirthPlace\")"
   ]
  },
  {
   "cell_type": "code",
   "execution_count": null,
   "id": "6d49a524",
   "metadata": {},
   "outputs": [],
   "source": [
    "ID"
   ]
  },
  {
   "cell_type": "markdown",
   "id": "65dc7888",
   "metadata": {},
   "source": [
    "# fist need to change markdown mode from code mode.\n",
    "<h2>This is heading 2</h2>\n",
    "<h3> THis is a hading tag in HTML 3. </h3>"
   ]
  },
  {
   "cell_type": "markdown",
   "id": "c63ec758",
   "metadata": {},
   "source": [
    "# This is a comment section\n",
    "<h1>This is heading 1</h1>\n",
    "<h5><b><i><u>This is another trial HTML code of markdown in Python page in Jupyter notebook </h5></b></i></u>"
   ]
  },
  {
   "cell_type": "markdown",
   "id": "ad5fed3d",
   "metadata": {},
   "source": [
    "# Creating One dimension Array / Vector"
   ]
  },
  {
   "cell_type": "code",
   "execution_count": null,
   "id": "09d169ad",
   "metadata": {},
   "outputs": [],
   "source": [
    "import numpy as np\n",
    "X=[1,2,3,5.5,6.8]\n",
    "Myyar=np.array(X)"
   ]
  },
  {
   "cell_type": "code",
   "execution_count": null,
   "id": "9c0be293",
   "metadata": {},
   "outputs": [],
   "source": [
    "Myarr1=np.array([9,5,6,100,900])"
   ]
  },
  {
   "cell_type": "code",
   "execution_count": null,
   "id": "87de8d80",
   "metadata": {},
   "outputs": [],
   "source": [
    "Myyar"
   ]
  },
  {
   "cell_type": "code",
   "execution_count": null,
   "id": "3377a835",
   "metadata": {},
   "outputs": [],
   "source": [
    "type(Myyar)"
   ]
  },
  {
   "cell_type": "code",
   "execution_count": null,
   "id": "53641dc8",
   "metadata": {},
   "outputs": [],
   "source": [
    "Myarr1"
   ]
  },
  {
   "cell_type": "code",
   "execution_count": null,
   "id": "b568cb1d",
   "metadata": {},
   "outputs": [],
   "source": [
    "Subha=np.array([12,33,66,97,\"Sussess\"])"
   ]
  },
  {
   "cell_type": "code",
   "execution_count": null,
   "id": "07e0e449",
   "metadata": {},
   "outputs": [],
   "source": [
    "Subha"
   ]
  },
  {
   "cell_type": "code",
   "execution_count": null,
   "id": "a3bb7405",
   "metadata": {},
   "outputs": [],
   "source": [
    "type(Subha)"
   ]
  },
  {
   "cell_type": "code",
   "execution_count": null,
   "id": "6a309576",
   "metadata": {},
   "outputs": [],
   "source": [
    "import numpy as np "
   ]
  },
  {
   "cell_type": "code",
   "execution_count": null,
   "id": "544d8b3a",
   "metadata": {},
   "outputs": [],
   "source": [
    "np\n",
    "twoarray2=np.array([7,8,9,10],[11,12,13,14],[15,16,17,18])"
   ]
  },
  {
   "cell_type": "code",
   "execution_count": null,
   "id": "65d6238a",
   "metadata": {},
   "outputs": [],
   "source": [
    "a=[]"
   ]
  },
  {
   "cell_type": "code",
   "execution_count": null,
   "id": "ec581850",
   "metadata": {},
   "outputs": [],
   "source": [
    "n=int(input(\"Enter size of the array\"))"
   ]
  },
  {
   "cell_type": "code",
   "execution_count": null,
   "id": "853414aa",
   "metadata": {},
   "outputs": [],
   "source": [
    "for i in range(n):\n",
    "    val=int(input(\"Enter Number\"))\n",
    "    a.append(val)\n",
    "myarry=np.array(a)\n",
    "myarry"
   ]
  },
  {
   "cell_type": "markdown",
   "id": "d9fd2ea2",
   "metadata": {},
   "source": [
    "# Creating Two dimension Array / Matrix"
   ]
  },
  {
   "cell_type": "code",
   "execution_count": null,
   "id": "5aa6d9f4",
   "metadata": {},
   "outputs": [],
   "source": [
    "b=[[1,2,3],[4,5,6]]"
   ]
  },
  {
   "cell_type": "code",
   "execution_count": null,
   "id": "ad3d2c4b",
   "metadata": {},
   "outputs": [],
   "source": [
    "twoarry=np.array(b)"
   ]
  },
  {
   "cell_type": "code",
   "execution_count": null,
   "id": "6d0b9e27",
   "metadata": {},
   "outputs": [],
   "source": [
    "twoarry"
   ]
  },
  {
   "cell_type": "code",
   "execution_count": null,
   "id": "56e582eb",
   "metadata": {},
   "outputs": [],
   "source": [
    "import numpy as np"
   ]
  },
  {
   "cell_type": "code",
   "execution_count": null,
   "id": "48195c10",
   "metadata": {},
   "outputs": [],
   "source": [
    "twoarray=np.array([[1,2,3,4],[5,6,7,8],[9,10,11,12]])"
   ]
  },
  {
   "cell_type": "code",
   "execution_count": null,
   "id": "a9c1ce5a",
   "metadata": {},
   "outputs": [],
   "source": [
    "twoarray"
   ]
  },
  {
   "cell_type": "code",
   "execution_count": null,
   "id": "5a93b6b8",
   "metadata": {},
   "outputs": [],
   "source": [
    "# Command for dimenssion\n",
    "twoarray.ndim\n"
   ]
  },
  {
   "cell_type": "code",
   "execution_count": null,
   "id": "394a5756",
   "metadata": {},
   "outputs": [],
   "source": [
    "print(\"The dimenssion of arrary is:\", twoarray.ndim)"
   ]
  },
  {
   "cell_type": "code",
   "execution_count": null,
   "id": "f0dd0655",
   "metadata": {},
   "outputs": [],
   "source": [
    "# Command for shape (no.of Rows, no. of Columns)\n",
    "twoarray.shape"
   ]
  },
  {
   "cell_type": "code",
   "execution_count": null,
   "id": "da89e0cb",
   "metadata": {},
   "outputs": [],
   "source": [
    "print(\"The shape of the Array is:\", twoarray.shape)"
   ]
  },
  {
   "cell_type": "code",
   "execution_count": null,
   "id": "268969dc",
   "metadata": {},
   "outputs": [],
   "source": [
    "# array with zeros verctor below.\n",
    "zero=np.zeros(5)\n",
    "zero"
   ]
  },
  {
   "cell_type": "code",
   "execution_count": null,
   "id": "9246d365",
   "metadata": {},
   "outputs": [],
   "source": [
    "one=np.ones(5)"
   ]
  },
  {
   "cell_type": "code",
   "execution_count": null,
   "id": "756da44b",
   "metadata": {},
   "outputs": [],
   "source": [
    "one"
   ]
  },
  {
   "cell_type": "code",
   "execution_count": null,
   "id": "44d7fa1e",
   "metadata": {},
   "outputs": [],
   "source": [
    "import numpy as np\n",
    "# two dimensional /matrix of zeros and ones below.\n",
    "one1=np.ones((2,3))\n",
    "one1"
   ]
  },
  {
   "cell_type": "code",
   "execution_count": null,
   "id": "e172a6e0",
   "metadata": {},
   "outputs": [],
   "source": [
    "zero1=np.zeros((3,3))\n",
    "zero1"
   ]
  },
  {
   "cell_type": "code",
   "execution_count": null,
   "id": "0941b3d8",
   "metadata": {},
   "outputs": [],
   "source": [
    "# Diagonal one matrix. inside the bracket we have to set the required 2,3.. unit square matrix. \n",
    "eye=np.eye(1)\n",
    "eye1=np.eye(2)\n",
    "eye2=np.eye(3)\n",
    "print(eye)\n",
    "print(eye1)\n",
    "print(eye2)"
   ]
  },
  {
   "cell_type": "code",
   "execution_count": null,
   "id": "1b03798c",
   "metadata": {},
   "outputs": [],
   "source": [
    "import numpy as np\n",
    "diag=np.diag([5,7,9])\n",
    "diag"
   ]
  },
  {
   "cell_type": "code",
   "execution_count": null,
   "id": "30b3ad6c",
   "metadata": {},
   "outputs": [],
   "source": [
    "#to fetch the diagonal element the following command is used\n",
    "np.diag(diag)"
   ]
  },
  {
   "cell_type": "code",
   "execution_count": null,
   "id": "b8615ac0",
   "metadata": {},
   "outputs": [],
   "source": [
    "# In order to make a array with random number in a range of integers as follows:-This is a Random function.\n",
    "Randint=np.random.randint(1,20,4)\n",
    "Randint"
   ]
  },
  {
   "cell_type": "code",
   "execution_count": null,
   "id": "8afc5281",
   "metadata": {},
   "outputs": [],
   "source": [
    "randint=np.random.randint(1,100,25) # 1 is minimum, 100 max. but excluded and required elements into the array\n",
    "randint\n"
   ]
  },
  {
   "cell_type": "code",
   "execution_count": null,
   "id": "603d0653",
   "metadata": {},
   "outputs": [],
   "source": [
    "print(randint)"
   ]
  },
  {
   "cell_type": "code",
   "execution_count": null,
   "id": "af0d309c",
   "metadata": {},
   "outputs": [],
   "source": [
    "# Rand Funtion. it is derived elements 0 to 1. How many elements we have required seting in simple bracket 2, 3 or ...below\n",
    "randnum=np.random.rand(7)\n",
    "randnum"
   ]
  },
  {
   "cell_type": "code",
   "execution_count": null,
   "id": "6edfa3a9",
   "metadata": {},
   "outputs": [],
   "source": [
    "randnum1=np.random.rand(5,5)\n",
    "randnum1"
   ]
  },
  {
   "cell_type": "code",
   "execution_count": null,
   "id": "dffec40b",
   "metadata": {},
   "outputs": [],
   "source": [
    "randnum2=np.random.rand(2,5)# (2,5) is the size of the matrrix. it is either square or non square.\n",
    "randnum2"
   ]
  },
  {
   "cell_type": "code",
   "execution_count": null,
   "id": "a880e72c",
   "metadata": {},
   "outputs": [],
   "source": [
    "# Randn funciton for fetching random elements near zeros.\n",
    "randzero=np.random.randn(5)\n",
    "randzero\n"
   ]
  },
  {
   "cell_type": "code",
   "execution_count": null,
   "id": "c4b9b740",
   "metadata": {},
   "outputs": [],
   "source": [
    "randzero1"
   ]
  },
  {
   "cell_type": "code",
   "execution_count": null,
   "id": "24310fc7",
   "metadata": {},
   "outputs": [],
   "source": [
    "def subha():\n",
    "    x=30\n",
    "    y=8\n",
    "    print(\"The age of My Love is: \", x+y )\n",
    "subha()  "
   ]
  },
  {
   "cell_type": "code",
   "execution_count": null,
   "id": "8913eab2",
   "metadata": {},
   "outputs": [],
   "source": [
    "subha()"
   ]
  },
  {
   "cell_type": "code",
   "execution_count": null,
   "id": "5d0e242c",
   "metadata": {},
   "outputs": [],
   "source": [
    "list=[1,2,3,4,5]\n"
   ]
  },
  {
   "cell_type": "code",
   "execution_count": null,
   "id": "78136cbe",
   "metadata": {},
   "outputs": [],
   "source": [
    "list[0]"
   ]
  },
  {
   "cell_type": "code",
   "execution_count": null,
   "id": "ad0d3c5a",
   "metadata": {},
   "outputs": [],
   "source": [
    "# Range function\n",
    "\n",
    "x=range(5)\n",
    "for y in x:\n",
    "    print(y)"
   ]
  },
  {
   "cell_type": "code",
   "execution_count": null,
   "id": "654c290e",
   "metadata": {},
   "outputs": [],
   "source": [
    "\n",
    "# Range=range(1,10,2) means starting ,stopping and stepping by 2 respectively. \n",
    "Range=range(1,10,2)\n",
    "for get in Range:\n",
    "    print(get)"
   ]
  },
  {
   "cell_type": "code",
   "execution_count": null,
   "id": "8e8ec8b1",
   "metadata": {},
   "outputs": [],
   "source": []
  },
  {
   "cell_type": "code",
   "execution_count": null,
   "id": "48ab4a52",
   "metadata": {},
   "outputs": [],
   "source": [
    "# Range in opposite is also possible. like,\n",
    "Rangeopp=range(20,5,-2)\n",
    "for get1 in Rangeopp:\n",
    "    print(get1)"
   ]
  },
  {
   "cell_type": "code",
   "execution_count": null,
   "id": "4761558b",
   "metadata": {},
   "outputs": [],
   "source": [
    "# Another Example of Range:\n",
    "Run=range(20,1,-3)\n",
    "for suba in Run:\n",
    "    print(suba)"
   ]
  },
  {
   "cell_type": "code",
   "execution_count": null,
   "id": "1766ca58",
   "metadata": {},
   "outputs": [],
   "source": [
    "# Another Example of Range:\n",
    "Run1=range(-1,-10,-2)\n",
    "for suba1 in Run1:\n",
    "    print(suba1)"
   ]
  },
  {
   "cell_type": "code",
   "execution_count": null,
   "id": "ad2e3f0e",
   "metadata": {},
   "outputs": [],
   "source": [
    "a=\"Subarna Basnet\"\n",
    "n=len(a)\n",
    "for i in range(n):\n",
    "    print(i,\"= \",a[i])\n",
    "    "
   ]
  },
  {
   "cell_type": "code",
   "execution_count": null,
   "id": "1f79ac90",
   "metadata": {},
   "outputs": [],
   "source": [
    "# Example of Nested for loop: First, outer for loop works and then complete the inner for loop and continue...\n",
    "for ram in range(5):\n",
    "    print(ram, \"Outer for loop\")\n",
    "    for shyam in range(2):\n",
    "        print(shyam, \"inner for loop\")\n",
    "else:\n",
    "    print(\"I am Successful\")\n",
    "        \n"
   ]
  },
  {
   "cell_type": "code",
   "execution_count": null,
   "id": "6dd11327",
   "metadata": {},
   "outputs": [],
   "source": [
    "# while loop: even number 1 up to 10\n",
    "a=1\n",
    "while a<=10:\n",
    "    print(a)\n",
    "    a+=2\n",
    "    "
   ]
  },
  {
   "cell_type": "code",
   "execution_count": null,
   "id": "84614e52",
   "metadata": {},
   "outputs": [],
   "source": [
    "# While loop in order to get even number up to 10.\n",
    "a=2\n",
    "while a<=10:\n",
    "    print(a)\n",
    "    a+=2"
   ]
  },
  {
   "cell_type": "code",
   "execution_count": null,
   "id": "276eaccb",
   "metadata": {},
   "outputs": [],
   "source": [
    "# while loop an else use increment of 10:\n",
    "x=10\n",
    "while x<=100:\n",
    "    print(x)\n",
    "    x+=10\n",
    "else:\n",
    "    print(\"I am successful\")"
   ]
  },
  {
   "cell_type": "code",
   "execution_count": null,
   "id": "4a7ce6b0",
   "metadata": {},
   "outputs": [],
   "source": [
    "\"break is required to avoid the system crash because true is a condition which is always true so that it is never stops loop if it is not given Break (forceful stopping the system).\"\n",
    "i=0\n",
    "while True:\n",
    "    print(i)\n",
    "    i+=1\n",
    "    if i==11:\n",
    "        break\n",
    "        print(\"Finished\")\n",
    "    "
   ]
  },
  {
   "cell_type": "code",
   "execution_count": null,
   "id": "3f34b151",
   "metadata": {},
   "outputs": [],
   "source": [
    "# Nested while loop Example:\n",
    "i=3\n",
    "while i>=0:\n",
    "    print(\"Outer Loop\",i)\n",
    "    i-=1\n",
    "    j=0\n",
    "    while j<=3:\n",
    "        print(\"Inner Loop\",j)\n",
    "        j+=1\n",
    "print(\"Successful\")\n",
    "    \n",
    "    "
   ]
  },
  {
   "cell_type": "code",
   "execution_count": null,
   "id": "4d9005f0",
   "metadata": {},
   "outputs": [],
   "source": [
    "# array in bulit python function for single dimensional array (1D) or a vector, can be import in two ways (1) import array and (2) from array import* (including class) as following examples. \n",
    "import array\n",
    "famAge=array.array(\"i\",[48,38,16,1])\n",
    "famAge"
   ]
  },
  {
   "cell_type": "code",
   "execution_count": null,
   "id": "2d1452b7",
   "metadata": {},
   "outputs": [],
   "source": [
    "from array import*\n",
    "sturoll=array(\"i\",[102,103,104,105,106,107,108,109,110])\n",
    "sturoll\n",
    "print(sturoll)"
   ]
  },
  {
   "cell_type": "code",
   "execution_count": null,
   "id": "62872e70",
   "metadata": {},
   "outputs": [],
   "source": [
    "# indexing is like a list, for example.\n",
    "[]\n",
    "famAge[2]\n"
   ]
  },
  {
   "cell_type": "code",
   "execution_count": null,
   "id": "d2b92736",
   "metadata": {},
   "outputs": [],
   "source": [
    "# Or,\n",
    "sturoll[8]"
   ]
  },
  {
   "cell_type": "code",
   "execution_count": null,
   "id": "d595b5cb",
   "metadata": {},
   "outputs": [],
   "source": [
    "famAge"
   ]
  },
  {
   "cell_type": "code",
   "execution_count": null,
   "id": "0b51c45b",
   "metadata": {},
   "outputs": [],
   "source": [
    "for suba in famAge:\n",
    "    print(suba)\n",
    "print(\"successful\")"
   ]
  },
  {
   "cell_type": "code",
   "execution_count": null,
   "id": "5c154bcf",
   "metadata": {},
   "outputs": [],
   "source": [
    "sturoll"
   ]
  },
  {
   "cell_type": "code",
   "execution_count": null,
   "id": "5533ab82",
   "metadata": {},
   "outputs": [],
   "source": [
    "n=len(sturoll)\n",
    "for stno in range(n):\n",
    "    print(\"index\", stno, \"=\", sturoll[stno])"
   ]
  },
  {
   "cell_type": "code",
   "execution_count": null,
   "id": "d194e9a3",
   "metadata": {},
   "outputs": [],
   "source": [
    "# arry using numpy (using numpy, we can make any size of array 1D or 2D...)\n",
    "import numpy # we can make it short for further typing numpy again and again.i.e. import numpy as np which helps to write numpy as np only. \n",
    "suba=numpy.array([10,20,30,60,700,900])\n",
    "print(suba)\n",
    "suba.dtype"
   ]
  },
  {
   "cell_type": "code",
   "execution_count": null,
   "id": "4c427582",
   "metadata": {},
   "outputs": [],
   "source": [
    "# indexing in single array.\n",
    "suba[4]\n",
    "suba[0]"
   ]
  },
  {
   "cell_type": "code",
   "execution_count": null,
   "id": "73dd41ba",
   "metadata": {},
   "outputs": [],
   "source": [
    "import numpy as np\n",
    "suba1=np.array([70,50,60,100,12.0])\n",
    "print(suba1)\n",
    "suba1.dtype"
   ]
  },
  {
   "cell_type": "code",
   "execution_count": null,
   "id": "a60da503",
   "metadata": {},
   "outputs": [],
   "source": [
    "# indexing in single array.\n",
    "suba1[2]\n",
    "suba1[1]\n",
    "suba1[4]\n",
    "suba1[0]"
   ]
  },
  {
   "cell_type": "code",
   "execution_count": null,
   "id": "017aa794",
   "metadata": {},
   "outputs": [],
   "source": [
    "\" like python array import array and (name=array.array([1,2,3,6])) or from array import* name=array.array([1,2,3,6])) we can also make array and * means all (variables, class, functions etc.)\""
   ]
  },
  {
   "cell_type": "code",
   "execution_count": null,
   "id": "4f4b6a3f",
   "metadata": {},
   "outputs": [],
   "source": [
    "from numpy import*\n",
    "#first, 1D array below.\n",
    "arr=array([1,3,5,7,9,11,15,17,19])\n",
    "print(arr)\n",
    "arr.dtype"
   ]
  },
  {
   "cell_type": "code",
   "execution_count": null,
   "id": "0124e906",
   "metadata": {},
   "outputs": [],
   "source": [
    "# 2D array below.\n",
    "from numpy import*\n",
    "arr1=array([[10,20,30,40,50,700,900,1000],[2,4,6,8,10,12,16,18]  \n",
    "])\n",
    "print(arr1)\n",
    "arr1.dtype"
   ]
  },
  {
   "cell_type": "code",
   "execution_count": null,
   "id": "3e3d2853",
   "metadata": {},
   "outputs": [],
   "source": [
    "# Indexing in 2D and above.\n",
    "arr1[0][2] # it is 30.\n",
    "arr1[1][5]"
   ]
  },
  {
   "cell_type": "code",
   "execution_count": null,
   "id": "072f06cd",
   "metadata": {},
   "outputs": [],
   "source": [
    "for suba in arr:\n",
    "    print(suba)\n",
    "print(\"successful\")"
   ]
  },
  {
   "cell_type": "code",
   "execution_count": null,
   "id": "97331c38",
   "metadata": {},
   "outputs": [],
   "source": [
    "# Attributes of numpy Array:\n",
    "from numpy import*\n",
    "safal=array([[10,20,3,50,80,79],\n",
    "           [7,5,9,3,4,6]])\n",
    "print(safal.ndim)# dimension of the Arry. 1D or 2D or...\n",
    "print(safal.dtype) # data type of the array.\n",
    "print(safal.shape) # number of rows and coloumns of the array.\n",
    "print(safal.size) # number of elements in the array.\n",
    "print(safal.itemsize) # memory size of array elements in bytes.\n",
    "print(safal.nbytes) # Total memory size occupied by elements inside the array.\n",
    "# Total number of bytes= size of array * item size of each element in the array."
   ]
  },
  {
   "cell_type": "code",
   "execution_count": null,
   "id": "f56c7c44",
   "metadata": {},
   "outputs": [],
   "source": [
    "from numpy import*\n",
    "sam=array([12,78,96,45,34])\n",
    "print(sam.size)\n",
    "sam.shape\n"
   ]
  },
  {
   "cell_type": "markdown",
   "id": "c9cd891a",
   "metadata": {},
   "source": [
    "# Randam array and reshape function 1D to 2D and vice versa. likewise, automatic shaping Rows when column given and vice versa. "
   ]
  },
  {
   "cell_type": "code",
   "execution_count": null,
   "id": "80504b19",
   "metadata": {
    "scrolled": true
   },
   "outputs": [],
   "source": [
    "\n",
    "from numpy import*\n",
    "Rand=random.randint(1,100,10) # 1D array randomly selected (changes everytime)from 1 to 100 and total 10 elements on it.\n",
    "print(\"Total number of Shape of Arry is:\",Rand.shape)\n",
    "print(\"Total size of the Array is:\",Rand.size)\n",
    "print(\"Total dimension of the Array is:\",Rand.ndim)\n",
    "Rand1=Rand.reshape(2,5)# no. rows* no. of colm (n*m) = total elements only array possible.example, 10 (2*5 or 5*2)possible.\n",
    "print(Rand1)\n",
    "Rand2=Rand1.reshape(5,2) # Revesing the size m*n(5*2).\n",
    "print(Rand2)\n",
    "print(Rand1.shape)\n",
    "print(Rand2.shape)\n",
    "\n"
   ]
  },
  {
   "cell_type": "code",
   "execution_count": null,
   "id": "c7bd1041",
   "metadata": {},
   "outputs": [],
   "source": [
    "# Automatic selection of Row/column in 2D Arrays.\n",
    "Rand3=random.randint(1,500,12)\n",
    "print(Rand3)\n",
    "Rand4=Rand3.reshape(-1,4) # here, -1 is 3 because size (12) of array is the product of 3. \n",
    "print(Rand4)\n",
    "Rand5=Rand4.reshape(2,-1)\n",
    "print(Rand5)"
   ]
  },
  {
   "cell_type": "code",
   "execution_count": null,
   "id": "d773eec2",
   "metadata": {},
   "outputs": [],
   "source": [
    "# Seed function (against the random function the seed function fixed the emlements)\n",
    "from numpy import*\n",
    "random.seed(12) \n",
    "# in a seed function inside the paranthesis we can choose any value/s insteadof (12). \n",
    "#The system generate automatically fixed elements in all computers.\n",
    "kabir=random.randint(1,100,10) \n",
    "print(kabir)"
   ]
  },
  {
   "cell_type": "markdown",
   "id": "719d9891",
   "metadata": {},
   "source": [
    "# concept of View and copy in array function."
   ]
  },
  {
   "cell_type": "code",
   "execution_count": null,
   "id": "2b2f307a",
   "metadata": {},
   "outputs": [],
   "source": [
    "import numpy as np\n",
    "view=np.random.randint(10,100,12)\n",
    "view"
   ]
  },
  {
   "cell_type": "code",
   "execution_count": null,
   "id": "a9edeae1",
   "metadata": {},
   "outputs": [],
   "source": [
    "view1=view.reshape(3,4)\n",
    "view1\n",
    "slice1=view[:3]\n",
    "print(slice1)"
   ]
  },
  {
   "cell_type": "code",
   "execution_count": null,
   "id": "e74d5cc3",
   "metadata": {},
   "outputs": [],
   "source": [
    "print(view1)\n",
    "slice2=view1[2][2] # for slicing row starts from 0 to 2 and again, column starts from 0 to 3\n",
    "print(slice2)\n",
    "slice3=view1[1][1:3]\n",
    "print(slice3)"
   ]
  },
  {
   "cell_type": "code",
   "execution_count": null,
   "id": "4d95233a",
   "metadata": {},
   "outputs": [],
   "source": [
    "print(view1)"
   ]
  },
  {
   "cell_type": "code",
   "execution_count": null,
   "id": "b24d2245",
   "metadata": {
    "scrolled": true
   },
   "outputs": [],
   "source": [
    "# Now checking difference between view and copy, First, check view below.\n",
    "view2=view1[1][1:4]=0\n",
    "print(view1) # Now, view (defult) makes / modifies the original file. \n",
    "# where original view1 (see above) has changes by zeros in the second row (below)."
   ]
  },
  {
   "cell_type": "code",
   "execution_count": null,
   "id": "5368310e",
   "metadata": {},
   "outputs": [],
   "source": [
    "# To understand, suppose the following 1 and 2D arrays\n",
    "copy=np.random.randint(10,100,12)\n",
    "print(copy)\n",
    "copy1=copy.reshape(-1,4)\n",
    "print(copy1)"
   ]
  },
  {
   "cell_type": "code",
   "execution_count": null,
   "id": "87894791",
   "metadata": {},
   "outputs": [],
   "source": [
    "# Now Check copy below:\n",
    "copy2=copy1.copy() \n",
    "copy2[1][1:4]=0\n",
    "print(copy2)\n",
    "print(copy1)# copy function only makes / modifies the current file (copy2)and does not change to original file(copy1). \n",
    "\"\"\"it is concluded that view (by defult) modifies both current file and the original file but copy(function) only works for the current file. it does not change to the original file\"\"\""
   ]
  },
  {
   "cell_type": "code",
   "execution_count": null,
   "id": "0914dc3e",
   "metadata": {},
   "outputs": [],
   "source": [
    "# Conditional selction on arry:\n",
    "from numpy import*\n",
    "cond=arange(1,16) # this is not random but selected list of elements, for example, 1-15 (<1 from the total)\n",
    "print(cond) #using different conditions.\n",
    "cond1=cond[cond<9]\n",
    "print([cond1])\n"
   ]
  },
  {
   "cell_type": "code",
   "execution_count": null,
   "id": "d943be85",
   "metadata": {},
   "outputs": [],
   "source": [
    "cond2=cond[cond%2==0] # Selecting even number in between 1-15 elements.\n",
    "print(cond2)\n",
    "cond3=cond[cond%2!=0]# Selecting odd number in between 1-15 elements.\n",
    "print(cond3)\n",
    "\n"
   ]
  },
  {
   "cell_type": "code",
   "execution_count": null,
   "id": "c4e4869d",
   "metadata": {},
   "outputs": [],
   "source": [
    "cond4=cond[cond<10]=0 # it modifes the original array and all values less than 10 becomes zeros, works like views.\n",
    "print(cond)"
   ]
  },
  {
   "cell_type": "code",
   "execution_count": null,
   "id": "caef5a1c",
   "metadata": {
    "scrolled": true
   },
   "outputs": [],
   "source": [
    "suba=arange(1,100,10) \n",
    "\"\"\"I am not confirm but last part 10 means dividing the maximum value by 10 (last given value)\"\"\"\n",
    "print(suba)"
   ]
  },
  {
   "cell_type": "code",
   "execution_count": null,
   "id": "2aa93325",
   "metadata": {
    "scrolled": true
   },
   "outputs": [],
   "source": [
    "suba1=suba.reshape(2,5)\n",
    "print(suba1)\n",
    "suba2=suba1[suba1>40]\n",
    "print(suba2)\n"
   ]
  },
  {
   "cell_type": "code",
   "execution_count": null,
   "id": "2f373a6f",
   "metadata": {
    "scrolled": true
   },
   "outputs": [],
   "source": [
    "suba3=suba1[suba1<35]\n",
    "print(suba3)"
   ]
  },
  {
   "cell_type": "code",
   "execution_count": null,
   "id": "ab563cab",
   "metadata": {},
   "outputs": [],
   "source": [
    "even=suba1[suba1%2==0]# interesting Suba1 has no even elements.\n",
    "print(even)"
   ]
  },
  {
   "cell_type": "code",
   "execution_count": null,
   "id": "5dffa255",
   "metadata": {},
   "outputs": [],
   "source": [
    "odd=suba1[suba1%2!=0]\n",
    "odd"
   ]
  },
  {
   "cell_type": "markdown",
   "id": "5351d2dd",
   "metadata": {},
   "source": [
    "# Need to check well !!!\n",
    "one=arange(1,20)\n",
    "print(one)\n",
    "###  one1= one[[one==11] or one[61>]] ???\n",
    "# print(one1)"
   ]
  },
  {
   "cell_type": "code",
   "execution_count": null,
   "id": "a0bd8ee9",
   "metadata": {},
   "outputs": [],
   "source": [
    "# Mathematical Operation in Numpy. Example below:\n",
    "from numpy import*\n",
    "sam=array([10,15,20,25,30])\n",
    "sam1=sam+5 # the value of all elements increased by 5 (adding each element by 5 into the array). \n",
    "print(sam1)\n",
    "# Adding two arrays:\n",
    "sam2=sam+sam1\n",
    "# che "
   ]
  },
  {
   "cell_type": "code",
   "execution_count": null,
   "id": "b85f3eb8",
   "metadata": {},
   "outputs": [],
   "source": [
    "print(sam2) # adding sam+sam1\n",
    "for samloop in sam2: # using loop for accessing elements from the array.\n",
    "    print(samloop)\n"
   ]
  },
  {
   "cell_type": "code",
   "execution_count": null,
   "id": "c1643036",
   "metadata": {
    "scrolled": true
   },
   "outputs": [],
   "source": [
    "# Substracting two arrays(sam+sam1).\n",
    "sam3=sam-sam1\n",
    "print(sam3)"
   ]
  },
  {
   "cell_type": "code",
   "execution_count": null,
   "id": "93a5d2a7",
   "metadata": {},
   "outputs": [],
   "source": [
    "from numpy import*\n",
    "math=arange(1,10) # printing elements 1-9 (10 exclusive)\n",
    "print(math)\n",
    "math2=math+3 # Each element is added by 3\n",
    "print(math2)\n",
    "math2_1=math-2\n",
    "print(math2_1)\n",
    "math1=math*2 # Each element is multiplied by 2\n",
    "print(math1)\n",
    "math3=math**2 # Each element powered by 2\n",
    "print(math3)\n",
    "math4=math/2 # Each element divide by 2\n",
    "print(math4)\n",
    "math5=math%2 # Each element modulous or % (reminder after division or where output 0 means even and 1 means odd element inside the array. )\n",
    "print(math5)\n",
    "math6=math-math2 # Elements from math minus corresponding elements of the math respectfully.\n",
    "print(math6)"
   ]
  },
  {
   "cell_type": "code",
   "execution_count": null,
   "id": "f2cfec29",
   "metadata": {},
   "outputs": [],
   "source": [
    "import numpy as np\n",
    "two=np.random.randint(1,20,4)\n",
    "print(two)\n",
    "two1=two.reshape(2,2)\n",
    "print(two1)"
   ]
  },
  {
   "cell_type": "code",
   "execution_count": null,
   "id": "efdbb20f",
   "metadata": {},
   "outputs": [],
   "source": [
    "from numpy import*\n",
    "three=random.randint(1,10,4)\n",
    "print(three)\n",
    "three1=three.reshape(-1,2)\n",
    "print(three1)"
   ]
  },
  {
   "cell_type": "code",
   "execution_count": null,
   "id": "14da732d",
   "metadata": {},
   "outputs": [],
   "source": [
    "# Mathematical operation for 2D. Except the multiplication all perform element to respective element.\n",
    "print(two1)\n",
    "print(three1)\n",
    "add=two1+three1\n",
    "print(add)\n",
    "sub=two1-three1\n",
    "print(sub)\n",
    "divide=two1/three1\n",
    "print(divide)\n",
    "divide1=two/2 # divide by scalar\n",
    "print(divide1)\n",
    "mod=two1%three1\n",
    "print(mod)\n",
    "pow=three1**2\n",
    "print(pow)\n",
    "mult=two1*three1 # this is not a matrix multiplication so that make real multiplication below:\n",
    "print(mult)\n",
    "mult1=two1.dot(three1) # this is real multiplication in a matrix is \".dot\" function. \n",
    "print(mult1)\n"
   ]
  },
  {
   "cell_type": "code",
   "execution_count": null,
   "id": "8575232d",
   "metadata": {},
   "outputs": [],
   "source": [
    "# Using Different Numpy functions.\n",
    "import numpy as np # every command start with np but if we use \"from numpy import*\" to import numpy np or numpy is not required. \n",
    "func=np.array([10,20,30,40,20,10,20,10,100,90])\n",
    "print(func)\n",
    "func1=np.max(func)\n",
    "print(func1)\n",
    "func2=np.min(func)\n",
    "print(func2)\n",
    "squar=np.sqrt(func) # sqrt function gives the square root of the each element in the matrix. \n",
    "print(squar)\n",
    "indmax=np.argmax(func) # the index position of the maximum element in the array. \n",
    "print(indmax)\n",
    "indmin=np.argmin(func) # # the index position of the minimum element in the array. \n",
    "print(indmin)\n",
    "sin_func=sin(func) # Converting the \"sin\" value of each element in the arrray.  \n",
    "print(sin_func)\n",
    "cos_func=cos(func) #  # Converting the \"Cos\" value of each element in the arrray. \n",
    "print(cos_func)\n"
   ]
  },
  {
   "cell_type": "code",
   "execution_count": null,
   "id": "e88a657b",
   "metadata": {},
   "outputs": [],
   "source": [
    "# The similar test of 2D array below:\n",
    "import numpy as np # importing numpy with calling as \"np\"\".\n",
    "new=np.random.seed(12)\n",
    "new=np.random.randint(1,100,10)\n",
    "fun=new.reshape(-1,5)\n",
    "print(fun)\n",
    "funmin=np.min(fun)\n",
    "print(funmin)\n",
    "funmax=np.max(fun)\n",
    "print(funmax)\n",
    "funsqrt=np.sqrt(fun)\n",
    "print(funsqrt)\n",
    "funargmax=np.argmax(fun)\n",
    "print(funargmax)\n",
    "funargmin=np.argmin(fun)\n",
    "print(funargmin)\n",
    "# Likewise\n",
    "funsin=np.sin(fun)\n",
    "print(funsin)\n",
    "funcos=np.cos(fun)\n",
    "print(funcos)\n"
   ]
  },
  {
   "cell_type": "code",
   "execution_count": null,
   "id": "752b02a5",
   "metadata": {},
   "outputs": [],
   "source": [
    "# Linspace function, it is a funcion with given range and same gap or same \"linspace\" bewtween/among the consecutive elemants into the array.\n",
    "same=np.linspace(1,10,5) # first number 1 is starting number, second number 10 is end value and the last number 5 is requiered number of elements in the array.\n",
    "print(same)"
   ]
  },
  {
   "cell_type": "code",
   "execution_count": null,
   "id": "bd31641b",
   "metadata": {},
   "outputs": [],
   "source": [
    "# 2D array\n",
    "ham=np.random.seed(122)\n",
    "ham=np.random.randint(10,100,12).reshape(-1,4)\n",
    "print(ham)\n",
    "hammax=np.max(ham)\n",
    "print(hammax)\n",
    "hammin=np.min(ham)\n",
    "print(hammin)\n",
    "hamsqrt=np.sqrt(ham)\n",
    "print(hamsqrt)\n",
    "\n"
   ]
  },
  {
   "cell_type": "code",
   "execution_count": null,
   "id": "3eb4928b",
   "metadata": {},
   "outputs": [],
   "source": []
  },
  {
   "cell_type": "code",
   "execution_count": null,
   "id": "f3eb314f",
   "metadata": {
    "scrolled": true
   },
   "outputs": [],
   "source": [
    "hamlinspace=np.linspace(10,11)\n",
    "print(hamlinspace)"
   ]
  },
  {
   "cell_type": "markdown",
   "id": "78399a84",
   "metadata": {},
   "source": [
    "## Using Numpy in different ways."
   ]
  },
  {
   "cell_type": "code",
   "execution_count": null,
   "id": "d18b32f1",
   "metadata": {},
   "outputs": [],
   "source": [
    "from numpy import* # this code call numpy and does not need to call numpy, varible, class etc.again.\n",
    "suba=random.seed(77)\n",
    "suba=random.randint(10,100,12).reshape(4,-1)\n",
    "print(suba)\n",
    "suba_sum=sum(suba)# It is a total sum (grand sum of all elements) the Same sum function in another way below:\n",
    "print(suba_sum)\n",
    "suba_sum1=suba.sum()\n",
    "print(suba_sum1)\n",
    "\n"
   ]
  },
  {
   "cell_type": "code",
   "execution_count": null,
   "id": "105cb393",
   "metadata": {},
   "outputs": [],
   "source": [
    "# The Sum of each row as follows. \n",
    "print(suba)\n",
    "print()\n",
    "suba_R_sum=sum(suba,axis=1)\n",
    "print(suba_R_sum)\n",
    "\n",
    "# The Sum of each column as follows. \n",
    "suba_C_sum=sum(suba, axis=0)\n",
    "print(suba_C_sum)\n",
    "print()\n",
    "# In order to cumulative sum the following code works properly (just instead of sum type cumsum). \n",
    "suba_cum=cumsum(suba)\n",
    "print(suba_cum)\n",
    "print()\n",
    "# cumulative only for row or column are:\n",
    "suba_cum_C=cumsum(suba,axis=1)\n",
    "print() # making some gap....it is use only to understand print clearly in the monitor otherwise it will be confused.\n",
    "print(suba_cum_C) # it sums Row wise.\n",
    "print()\n",
    "suba_cum_R=cumsum(suba,axis=0) # it sums column wise.\n",
    "print(suba_cum_R)\n"
   ]
  },
  {
   "cell_type": "code",
   "execution_count": null,
   "id": "5fc69600",
   "metadata": {
    "scrolled": true
   },
   "outputs": [],
   "source": [
    "# Additional functions: suffle, unique funciton and its size.\n",
    "from numpy import*\n",
    "suf=random.seed(10)\n",
    "suf=random.randint(1,20,6).reshape(2,-1)\n",
    "print(suf)\n",
    "print()\n"
   ]
  },
  {
   "cell_type": "code",
   "execution_count": null,
   "id": "13d8c07d",
   "metadata": {},
   "outputs": [],
   "source": [
    "#################################\n",
    "from numpy import*\n",
    "suff=random.randint(1,100,10)\n",
    "print(suff)\n",
    "print()\n",
    "shuf=random.shuffle(suff)\n",
    "print(shuf)"
   ]
  },
  {
   "cell_type": "code",
   "execution_count": null,
   "id": "cb7f8c91",
   "metadata": {},
   "outputs": [],
   "source": [
    "import numpy as np\n",
    "twoD=array([10,20,30,4,50,10,20,30,88,10,20,77]).reshape(-1,4)\n",
    "print(twoD)\n"
   ]
  },
  {
   "cell_type": "code",
   "execution_count": null,
   "id": "2a6074bf",
   "metadata": {},
   "outputs": [],
   "source": [
    "twoD1=random.shuffle(twoD) # Why ? this code is not working and returns \"None\"\n",
    "print(twoD1)"
   ]
  },
  {
   "cell_type": "code",
   "execution_count": null,
   "id": "19a2dd64",
   "metadata": {},
   "outputs": [],
   "source": [
    "from numpy import*\n",
    "lov=array([10,20,30,9,9,10,50,60,80,70,30,30])\n",
    "print(lov)\n",
    "print()\n",
    "man=lov.size\n",
    "print(man)\n",
    "print()\n",
    "lov1=unique(lov) # This function returns only unique elements (drops the repeated elements) form the array. \n",
    "print(lov1)\n",
    "print()\n",
    "lov3=unique(lov1).size\n",
    "print(lov3)"
   ]
  },
  {
   "cell_type": "code",
   "execution_count": null,
   "id": "c2d6a1ec",
   "metadata": {},
   "outputs": [],
   "source": [
    "# Stacking (Horizontally and Vertically) function below:\n",
    "stack=array([1,2,3,4,5])\n",
    "stack1=arange(6,11)\n",
    "print(stack)\n",
    "print()\n",
    "print(stack1)\n",
    "# Using stack Horizontally and Vertically.\n",
    "print()\n",
    "stack3=hstack((stack, stack1)) # This is horizontal stack (putting one array to another horizontally.)\n",
    "print(stack3)\n",
    "print()\n",
    "stack4=vsmtack((stack, stack1))\n",
    "print(stack4)"
   ]
  },
  {
   "cell_type": "code",
   "execution_count": null,
   "id": "e1ce49ab",
   "metadata": {},
   "outputs": [],
   "source": [
    "# Stacking for 2D arrays.\n",
    "import numpy as np\n",
    "stac=np.random.randint(1,100,12).reshape(4,3)\n",
    "stac1=np.random.randint(200,300,12).reshape(4,3)\n",
    "print(stac)\n",
    "print()\n",
    "print(stac1)\n",
    "print()\n",
    "stac2=hstack((stac,stac1))\n",
    "print(stac2)\n",
    "print()\n",
    "stac3=vstack((stac,stac1))\n",
    "print(stac3)"
   ]
  },
  {
   "cell_type": "markdown",
   "id": "c471ce36",
   "metadata": {},
   "source": [
    "# Need to check in element to element multiplication....\n",
    "#Multiply two arrays. sam=array([10,15,20,25,30]) sam1=[25 35 45 55 65]\n",
    "sam4n=sam*sam1\n",
    "print(sam4prit"
   ]
  },
  {
   "cell_type": "code",
   "execution_count": null,
   "id": "c615197d",
   "metadata": {},
   "outputs": [],
   "source": [
    "# Devide by Scalar in Array\n",
    "sam5=sam/2\n",
    "print(sam5)"
   ]
  },
  {
   "cell_type": "code",
   "execution_count": null,
   "id": "7c08418f",
   "metadata": {},
   "outputs": [],
   "source": [
    "# Multiply by Scalar in Array\n",
    "sam6=sam*2\n",
    "print(sam6)\n",
    "\n"
   ]
  },
  {
   "cell_type": "code",
   "execution_count": null,
   "id": "b1dcc6b9",
   "metadata": {},
   "outputs": [],
   "source": [
    "# Opening or creatinf file in python. \n",
    "f=open(\"san\", mode=\"w\") # f is here just assigning operator\n",
    "f.write(\"I am successful \\n\")\n",
    "f.close()\n",
    "\n",
    "\n",
    "\n"
   ]
  },
  {
   "cell_type": "code",
   "execution_count": null,
   "id": "3676c9f2",
   "metadata": {},
   "outputs": [],
   "source": [
    "# append on the file \"san\".open(san,mode=\"a\")\n",
    "kam=open(\"san\",mode=\"a\") # kam is here just assigning operator\n",
    "kam.write(\"Hallo\\nWelcome\")\n",
    "kam.close()"
   ]
  },
  {
   "cell_type": "code",
   "execution_count": null,
   "id": "2a35c078",
   "metadata": {},
   "outputs": [],
   "source": [
    "main=open(\"san\", mode=\"x\") # the san file has not enabled to write because x monde always open and work with different file name only.\n",
    "main.write(\"\\nHello World\") # main here is just using for access like f in above code. \n",
    "main.close()\n"
   ]
  },
  {
   "cell_type": "code",
   "execution_count": null,
   "id": "d3584d45",
   "metadata": {},
   "outputs": [],
   "source": [
    "f=open(\"main\",mode=\"a\")\n",
    "f.write(\"\\n I am successful\")\n",
    "f.close()\n"
   ]
  },
  {
   "cell_type": "code",
   "execution_count": null,
   "id": "5bc3f211",
   "metadata": {},
   "outputs": [],
   "source": []
  }
 ],
 "metadata": {
  "kernelspec": {
   "display_name": "Python 3 (ipykernel)",
   "language": "python",
   "name": "python3"
  },
  "language_info": {
   "codemirror_mode": {
    "name": "ipython",
    "version": 3
   },
   "file_extension": ".py",
   "mimetype": "text/x-python",
   "name": "python",
   "nbconvert_exporter": "python",
   "pygments_lexer": "ipython3",
   "version": "3.10.4"
  }
 },
 "nbformat": 4,
 "nbformat_minor": 5
}
